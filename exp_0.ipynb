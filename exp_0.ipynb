{
 "cells": [
  {
   "cell_type": "markdown",
   "id": "9c7614fa-b6c7-48af-9ed0-07d0cc794162",
   "metadata": {},
   "source": [
    "# school v.3"
   ]
  },
  {
   "cell_type": "code",
   "execution_count": 1,
   "id": "df4eb740-1cf7-415b-bc14-053941b93177",
   "metadata": {
    "tags": []
   },
   "outputs": [],
   "source": [
    "%env CUDA_VISIBLE_DEVICES=4,5\n",
    "\n",
    "%env TRANSFORMERS_CACHE=/mnt/LLM/hub\n",
    "%env OMP_NUM_THREADS=16 \n",
    "%env MKL_NUM_THREADS=16 \n",
    "\n",
    "%load_ext autoreload\n",
    "%autoreload 2"
   ]
  },
  {
   "cell_type": "code",
   "execution_count": 2,
   "id": "0c903cf7-81f2-45e6-89b1-7422312bae54",
   "metadata": {
    "tags": []
   },
   "outputs": [],
   "source": [
    "from utils import *\n",
    "\n",
    "import torch\n",
    "import transformers\n",
    "import peft\n",
    "import time\n",
    "import accelerate\n",
    "from tqdm.auto import trange, tqdm\n",
    "import numpy as np\n",
    "from matplotlib import pyplot as plt\n",
    "\n",
    "\n",
    "device = device0 = torch.device('cuda:0')\n",
    "device1 = torch.device('cuda:1') if torch.cuda.device_count() > 1 else device0"
   ]
  },
  {
   "cell_type": "markdown",
   "id": "576f7d14-16f3-48bb-8a22-3d10e65f3fb8",
   "metadata": {},
   "source": [
    "## Args / params"
   ]
  },
  {
   "cell_type": "code",
   "execution_count": 49,
   "id": "1cf1a8a8-9c5e-4dba-9ecb-c3134585976d",
   "metadata": {},
   "outputs": [],
   "source": [
    "# MODEL_NAME_0 = 'meta-llama/Llama-2-13b-hf'  # Teacher model  - NOT USED\n",
    "# MODEL_NAME_1 = 'meta-llama/Llama-2-13b-hf'   # Student model\n",
    "MODEL_NAME_1 = 'meta-llama/Llama-2-70b-hf'   # Student model\n",
    "torch_dtype=torch.bfloat16\n",
    "\n",
    "EXP_NAME = 'exp_0'\n",
    "\n",
    "class args:\n",
    "    batch_size = 16\n",
    "    per_device_train_batch_size = 4\n",
    "    lr = 1e-4\n",
    "    max_grad_norm = 0.3  # gradient clipping"
   ]
  },
  {
   "cell_type": "markdown",
   "id": "2af68923-ca6e-4c67-ba69-882eecf4030b",
   "metadata": {},
   "source": [
    "### Models & tokenizer"
   ]
  },
  {
   "cell_type": "code",
   "execution_count": null,
   "id": "a6f04ce9-2a29-4d76-ab20-c88df618c387",
   "metadata": {
    "tags": []
   },
   "outputs": [],
   "source": [
    "model = load_model(MODEL_NAME_1, torch_dtype=torch.bfloat16, device_map='balanced', ).eval()\n",
    "\n",
    "# uncomment for baseline eval\n",
    "for p in model.parameters():\n",
    "    p.requires_grad = False"
   ]
  },
  {
   "cell_type": "code",
   "execution_count": 5,
   "id": "2ad08623-d51f-49c3-8d6d-78145f810d0b",
   "metadata": {
    "tags": []
   },
   "outputs": [],
   "source": [
    "# from https://huggingface.co/timdettmers/guanaco-65b/blob/main/adapter_config.json\n",
    "guanaco_gpeft_config = peft.LoraConfig(\n",
    "    bias = \"none\",\n",
    "    fan_in_fan_out = False,\n",
    "    inference_mode=False,\n",
    "    init_lora_weights = True,\n",
    "    lora_alpha = 16.0,\n",
    "    lora_dropout = 0.05,  # set to 0 for OF test\n",
    "    modules_to_save = None,\n",
    "    peft_type = \"LORA\",\n",
    "    r = 64,\n",
    "    target_modules=['q_proj', 'o_proj', 'gate_proj', 'down_proj', 'k_proj', 'up_proj', 'v_proj'],\n",
    "    task_type=\"CAUSAL_LM\",\n",
    ")"
   ]
  },
  {
   "cell_type": "code",
   "execution_count": 21,
   "id": "0c6f0b43-5dfb-45a5-bfcb-6a5a39141710",
   "metadata": {
    "tags": []
   },
   "outputs": [
    {
     "name": "stdout",
     "output_type": "stream",
     "text": [
      "CPU times: user 1min 49s, sys: 1.15 s, total: 1min 51s\n",
      "Wall time: 9.73 s\n"
     ]
    }
   ],
   "source": [
    "%time model = peft.get_peft_model(model, guanaco_gpeft_config)"
   ]
  },
  {
   "cell_type": "code",
   "execution_count": 40,
   "id": "aa3eb38f-0d43-4db7-a557-ece88b8960d8",
   "metadata": {
    "tags": []
   },
   "outputs": [
    {
     "name": "stdout",
     "output_type": "stream",
     "text": [
      "model.layers.0.self_attn.q_proj.weight                   (8192, 8192)  bfloat16     False  cuda:0\n",
      "model.layers.0.self_attn.q_proj.lora_A.default.weight    (64, 8192)    float32      True   cuda:0\n",
      "model.layers.0.self_attn.q_proj.lora_B.default.weight    (8192, 64)    float32      True   cuda:0\n",
      "model.layers.0.self_attn.k_proj.weight                   (1024, 8192)  bfloat16     False  cuda:0\n",
      "model.layers.0.self_attn.k_proj.lora_A.default.weight    (64, 8192)    float32      True   cuda:0\n",
      "model.layers.0.self_attn.k_proj.lora_B.default.weight    (1024, 64)    float32      True   cuda:0\n",
      "model.layers.0.self_attn.v_proj.weight                   (1024, 8192)  bfloat16     False  cuda:0\n",
      "model.layers.0.self_attn.v_proj.lora_A.default.weight    (64, 8192)    float32      True   cuda:0\n",
      "model.layers.0.self_attn.v_proj.lora_B.default.weight    (1024, 64)    float32      True   cuda:0\n",
      "model.layers.0.self_attn.o_proj.weight                   (8192, 8192)  bfloat16     False  cuda:0\n",
      "model.layers.0.self_attn.o_proj.lora_A.default.weight    (64, 8192)    float32      True   cuda:0\n",
      "model.layers.0.self_attn.o_proj.lora_B.default.weight    (8192, 64)    float32      True   cuda:0\n",
      "model.layers.0.mlp.gate_proj.weight                      (28672, 8192) bfloat16     False  cuda:0\n",
      "model.layers.0.mlp.gate_proj.lora_A.default.weight       (64, 8192)    float32      True   cuda:0\n",
      "model.layers.0.mlp.gate_proj.lora_B.default.weight       (28672, 64)   float32      True   cuda:0\n",
      "model.layers.0.mlp.up_proj.weight                        (28672, 8192) bfloat16     False  cuda:0\n",
      "model.layers.0.mlp.up_proj.lora_A.default.weight         (64, 8192)    float32      True   cuda:0\n",
      "model.layers.0.mlp.up_proj.lora_B.default.weight         (28672, 64)   float32      True   cuda:0\n",
      "model.layers.0.mlp.down_proj.weight                      (8192, 28672) bfloat16     False  cuda:0\n",
      "model.layers.0.mlp.down_proj.lora_A.default.weight       (64, 28672)   float32      True   cuda:0\n",
      "model.layers.0.mlp.down_proj.lora_B.default.weight       (8192, 64)    float32      True   cuda:0\n",
      "model.layers.0.input_layernorm.weight                    (8192,)       bfloat16     False  cuda:0\n",
      "model.layers.0.post_attention_layernorm.weight           (8192,)       bfloat16     False  cuda:0\n"
     ]
    }
   ],
   "source": [
    "# view model layers params\n",
    "for n, p in model.named_parameters():\n",
    "    if 'layers.0' in n:\n",
    "        print(f\"{n.replace('base_model.model.', ''):<56} {str(tuple(p.shape)):<14}\"\n",
    "              f\"{str(p.dtype).strip('torch.'):<12} {str(p.requires_grad):<6} {p.device}\")"
   ]
  },
  {
   "cell_type": "code",
   "execution_count": 8,
   "id": "417911f1-e667-4de6-895b-3375f048e34e",
   "metadata": {
    "tags": []
   },
   "outputs": [
    {
     "name": "stderr",
     "output_type": "stream",
     "text": [
      "Using pad_token, but it is not set yet.\n",
      "Using pad_token, but it is not set yet.\n"
     ]
    }
   ],
   "source": [
    "prefix_tokenizer, suffix_tokenizer = get_tokenizers(model.config._name_or_path)"
   ]
  },
  {
   "cell_type": "markdown",
   "id": "0f64637e-4a4e-426c-a5d2-6ed716dffda3",
   "metadata": {},
   "source": [
    "## Prompt"
   ]
  },
  {
   "cell_type": "code",
   "execution_count": 9,
   "id": "09120a3a-5bfa-4ea7-b978-4a85bd7906af",
   "metadata": {
    "tags": []
   },
   "outputs": [],
   "source": [
    "from prompts import *\n",
    "\n",
    "prompt_cot = get_cot_hub_prompt(raw=False)"
   ]
  },
  {
   "cell_type": "markdown",
   "id": "2b02dd94-4cb1-4cb0-859a-a378c7ee7ec2",
   "metadata": {},
   "source": [
    "## prepare data"
   ]
  },
  {
   "cell_type": "code",
   "execution_count": 10,
   "id": "41cc9a0a-af2d-44f4-b8eb-76b19c0bb209",
   "metadata": {
    "tags": []
   },
   "outputs": [],
   "source": [
    "import os, sys\n",
    "from functools import partial\n",
    "\n",
    "collate = partial(collate_cot_batch, prefix_tokenizer=prefix_tokenizer, suffix_tokenizer=suffix_tokenizer)"
   ]
  },
  {
   "cell_type": "code",
   "execution_count": 11,
   "id": "84230490-b4ad-47d6-88a8-01a930252873",
   "metadata": {
    "tags": []
   },
   "outputs": [
    {
     "name": "stdout",
     "output_type": "stream",
     "text": [
      "7473 train examples\n",
      "1319 test examples\n"
     ]
    }
   ],
   "source": [
    "GSM8K_PATH = '/home/optimus/gsm8k/' \n",
    "sys.path.append(GSM8K_PATH)\n",
    "from grade_school_math.dataset import get_examples, GSMDataset\n",
    "train_examples = get_examples(\"train\", data_path=os.path.join(GSM8K_PATH, 'grade_school_math/data'))\n",
    "test_examples = get_examples(\"test\", data_path=os.path.join(GSM8K_PATH, 'grade_school_math/data'))\n",
    "# print(train_examples[4242])"
   ]
  },
  {
   "cell_type": "code",
   "execution_count": 12,
   "id": "deb8c0f8-71a9-4d7d-a7e2-0ca6dd99b33c",
   "metadata": {
    "tags": []
   },
   "outputs": [
    {
     "name": "stdout",
     "output_type": "stream",
     "text": [
      "len(dataset_train)=7473, len(dataloader_train)=1869\n"
     ]
    }
   ],
   "source": [
    "# TRAIN SET\n",
    "dataset_train = CoTDataset(train_examples, prompt_cot)\n",
    "dataloader_train = DataLoader(dataset_train, batch_size=args.per_device_train_batch_size, shuffle=True, collate_fn=collate,)\n",
    "print(f\"{len(dataset_train)=}, {len(dataloader_train)=}\")"
   ]
  },
  {
   "cell_type": "code",
   "execution_count": 13,
   "id": "a56f1355-017f-4197-9fb4-d2cd4602e0c1",
   "metadata": {
    "tags": []
   },
   "outputs": [
    {
     "name": "stdout",
     "output_type": "stream",
     "text": [
      "len(dataset_train_1)=16, len(dataloader_train_1)=4\n"
     ]
    }
   ],
   "source": [
    "# for single batch OF testing\n",
    "dataset_train_1 = CoTDataset(train_examples[:args.batch_size], prompt_cot)\n",
    "dataloader_train_1 = DataLoader(dataset_train_1, batch_size=args.per_device_train_batch_size, shuffle=True, collate_fn=collate,)\n",
    "print(f\"{len(dataset_train_1)=}, {len(dataloader_train_1)=}\")"
   ]
  },
  {
   "cell_type": "code",
   "execution_count": 15,
   "id": "45cacba6-fb88-40e1-b06a-25d62caef445",
   "metadata": {
    "tags": []
   },
   "outputs": [
    {
     "name": "stdout",
     "output_type": "stream",
     "text": [
      "len(dataset_test)=256, len(dataloader_test)=16\n"
     ]
    }
   ],
   "source": [
    "# TEST SET\n",
    "\n",
    "dataset_test = CoTDataset(test_examples[:256], prompt_cot)\n",
    "dataloader_test = DataLoader(dataset_test, batch_size=args.batch_size, shuffle=False, \n",
    "                              collate_fn=collate,\n",
    "                             )\n",
    "print(f\"{len(dataset_test)=}, {len(dataloader_test)=}\")"
   ]
  },
  {
   "cell_type": "code",
   "execution_count": 16,
   "id": "0e9341bd-959d-4cf2-bafb-08477b88dd60",
   "metadata": {
    "tags": []
   },
   "outputs": [
    {
     "name": "stdout",
     "output_type": "stream",
     "text": [
      "dict_keys(['teacher_prefix_inputs', 'student_prefix_inputs', 'main_inputs', 'teacher_batch', 'student_batch', 'main_inputs_length', 'main_inputs_attn_mask'])\n",
      "torch.Size([4, 77]) torch.Size([4, 9]) torch.Size([4, 9])\n"
     ]
    }
   ],
   "source": [
    "for i, batch in enumerate (dataloader_train):\n",
    "    batches.append(batch)\n",
    "        \n",
    "print(batch.keys())\n",
    "\n",
    "print(batch['student_batch']['attention_mask'].shape,\n",
    "      batch['main_inputs_attn_mask'].shape,\n",
    "      batch['student_batch']['attention_mask'][:, -batch['main_inputs_length']:].shape)"
   ]
  },
  {
   "cell_type": "markdown",
   "id": "45cc198e-fac1-4c60-9031-fc55098d2d53",
   "metadata": {
    "tags": []
   },
   "source": [
    "### OF to 1 batch"
   ]
  },
  {
   "cell_type": "code",
   "execution_count": null,
   "id": "d3b889f6-8142-4cd6-8ba7-8a1eefd783c6",
   "metadata": {
    "scrolled": true,
    "tags": []
   },
   "outputs": [
    {
     "data": {
      "application/vnd.jupyter.widget-view+json": {
       "model_id": "886c07aec6484dcdaca4224522f64c37",
       "version_major": 2,
       "version_minor": 0
      },
      "text/plain": [
       "  0%|          | 0/8 [00:00<?, ?it/s]"
      ]
     },
     "metadata": {},
     "output_type": "display_data"
    },
    {
     "name": "stdout",
     "output_type": "stream",
     "text": [
      "  0: loss=1.2435  acc=1.0000  delta_entropy=0.0340\n"
     ]
    },
    {
     "data": {
      "application/vnd.jupyter.widget-view+json": {
       "model_id": "ccc80ee7de4a42f3b147e294455d740e",
       "version_major": 2,
       "version_minor": 0
      },
      "text/plain": [
       "  0%|          | 0/8 [00:00<?, ?it/s]"
      ]
     },
     "metadata": {},
     "output_type": "display_data"
    },
    {
     "name": "stdout",
     "output_type": "stream",
     "text": [
      "  0: loss=1.2044  acc=0.9286  delta_entropy=0.1692\n"
     ]
    },
    {
     "data": {
      "application/vnd.jupyter.widget-view+json": {
       "model_id": "ad15ed9874b94d588498ed76a00ddda4",
       "version_major": 2,
       "version_minor": 0
      },
      "text/plain": [
       "  0%|          | 0/8 [00:00<?, ?it/s]"
      ]
     },
     "metadata": {},
     "output_type": "display_data"
    },
    {
     "name": "stdout",
     "output_type": "stream",
     "text": [
      "  0: loss=0.7646  acc=0.9333  delta_entropy=0.0308\n"
     ]
    },
    {
     "data": {
      "application/vnd.jupyter.widget-view+json": {
       "model_id": "5168a97771534b4ba6daf67bdf2666e5",
       "version_major": 2,
       "version_minor": 0
      },
      "text/plain": [
       "  0%|          | 0/8 [00:00<?, ?it/s]"
      ]
     },
     "metadata": {},
     "output_type": "display_data"
    }
   ],
   "source": [
    "opt = torch.optim.AdamW(model.parameters(), lr=1e-4, betas=(0.9, 0.999))\n",
    "\n",
    "history_1 = [] \n",
    "\n",
    "for ep in range (20):\n",
    "    # print(f\"EPOCH {ep}:\")\n",
    "        \n",
    "    history_1.extend(train_epoch(model, opt, dataloader_train_1, args=args, device=device1))"
   ]
  },
  {
   "cell_type": "code",
   "execution_count": 60,
   "id": "7377d3b0-e939-431d-b752-84cda02d6d2f",
   "metadata": {
    "tags": []
   },
   "outputs": [
    {
     "data": {
      "image/png": "[encoded data removed]",
      "text/plain": [
       "<Figure size 1000x400 with 2 Axes>"
      ]
     },
     "metadata": {},
     "output_type": "display_data"
    }
   ],
   "source": [
    "window = 1  # moving average window\n",
    "\n",
    "fig, axs = plt.subplots(1, 2, figsize = (10,4))\n",
    "data = [np.convolve([h['delta_entropy'] for h in history], np.ones(window), 'valid') / window,\n",
    "        np.convolve([h['acc'] for h in history], np.ones(window), 'valid') / window]\n",
    "titles = ('student - teacher x-entropy diff', 'accuracy')\n",
    "for i, ax in enumerate(axs):\n",
    "    ax.plot(data[i])\n",
    "    ax.set_title(titles[i])\n",
    "    ax.set_xlabel('steps')\n",
    "    ax.grid()\n",
    "fig.suptitle(f'train overfit observed, moving averages with {window=}', fontsize=16);\n",
    "plt.tight_layout()"
   ]
  },
  {
   "cell_type": "markdown",
   "id": "f109cc6c-694c-4d24-ae30-3beabb0618a3",
   "metadata": {
    "tags": []
   },
   "source": [
    "### Train"
   ]
  },
  {
   "cell_type": "code",
   "execution_count": 23,
   "id": "9c65da3e-5cff-45bd-aeb4-7fbf17ba406f",
   "metadata": {
    "tags": []
   },
   "outputs": [],
   "source": [
    "opt = torch.optim.AdamW(model.parameters(), lr=1e-4, betas=(0.9, 0.999))"
   ]
  },
  {
   "cell_type": "code",
   "execution_count": null,
   "id": "84905bbe-b5da-4016-9bb1-94a868289463",
   "metadata": {
    "tags": []
   },
   "outputs": [
    {
     "name": "stdout",
     "output_type": "stream",
     "text": [
      "VALIDATION\n"
     ]
    },
    {
     "data": {
      "application/vnd.jupyter.widget-view+json": {
       "model_id": "0d1a179470ad43c3b57c7d9b20f23a63",
       "version_major": 2,
       "version_minor": 0
      },
      "text/plain": [
       "  0%|          | 0/16 [00:00<?, ?it/s]"
      ]
     },
     "metadata": {},
     "output_type": "display_data"
    },
    {
     "name": "stdout",
     "output_type": "stream",
     "text": [
      "  0: | batch results: delta_entropy1=0.4805  acc1=0.8099\n",
      "  1: | batch results: delta_entropy1=0.4565  acc1=0.8421\n",
      "  2: | batch results: delta_entropy1=0.4537  acc1=0.8230\n",
      "  3: | batch results: delta_entropy1=0.4824  acc1=0.8220\n",
      "  4: | batch results: delta_entropy1=0.5376  acc1=0.8120\n",
      "  5: | batch results: delta_entropy1=0.3729  acc1=0.8487\n",
      "  6: | batch results: delta_entropy1=0.3178  acc1=0.8649\n",
      "  7: | batch results: delta_entropy1=0.2658  acc1=0.9052\n",
      "  8: | batch results: delta_entropy1=0.4468  acc1=0.8167\n",
      "  9: | batch results: delta_entropy1=0.3909  acc1=0.7607\n",
      " 10: | batch results: delta_entropy1=0.4490  acc1=0.8559\n",
      " 11: | batch results: delta_entropy1=0.3711  acc1=0.8190\n",
      " 12: | batch results: delta_entropy1=0.4043  acc1=0.8016\n",
      " 13: | batch results: delta_entropy1=0.4218  acc1=0.8276\n",
      " 14: | batch results: delta_entropy1=0.5211  acc1=0.7913\n",
      " 15: | batch results: delta_entropy1=0.5267  acc1=0.8034\n",
      "val results: acc=0.8250  delta_entropy=0.4312\n",
      "EPOCH 1:\n"
     ]
    },
    {
     "data": {
      "application/vnd.jupyter.widget-view+json": {
       "model_id": "c9f5a11a65994967a08e78d5e6822ed5",
       "version_major": 2,
       "version_minor": 0
      },
      "text/plain": [
       "  0%|          | 0/1869 [00:00<?, ?it/s]"
      ]
     },
     "metadata": {},
     "output_type": "display_data"
    },
    {
     "name": "stdout",
     "output_type": "stream",
     "text": [
      "  0: loss=1.5112  acc=0.8966  delta_entropy=0.2822\n",
      " 16: loss=1.1551  acc=0.7931  delta_entropy=0.3400\n",
      " 32: loss=1.0193  acc=0.8750  delta_entropy=0.2134\n",
      " 48: loss=1.1482  acc=0.9310  delta_entropy=0.2892\n",
      " 64: loss=1.1928  acc=0.9375  delta_entropy=0.1233\n",
      " 80: loss=1.4352  acc=0.8276  delta_entropy=0.3184\n",
      " 96: loss=1.0683  acc=0.8929  delta_entropy=0.2654\n",
      "112: loss=1.0164  acc=0.9333  delta_entropy=0.2093\n",
      "128: loss=0.6521  acc=0.9143  delta_entropy=0.2692\n",
      "144: loss=1.3232  acc=0.9310  delta_entropy=0.3192\n",
      "160: loss=1.2563  acc=0.8846  delta_entropy=0.3282\n",
      "176: loss=1.3732  acc=0.8966  delta_entropy=0.2491\n",
      "192: loss=1.3764  acc=0.8214  delta_entropy=0.4552\n",
      "208: loss=0.9590  acc=0.8889  delta_entropy=0.3183\n",
      "224: loss=1.1930  acc=0.8667  delta_entropy=0.3658\n",
      "240: loss=1.6434  acc=0.7241  delta_entropy=0.5237\n",
      "256: loss=1.0383  acc=0.9643  delta_entropy=0.2679\n",
      "272: loss=1.4016  acc=0.9000  delta_entropy=0.3536\n",
      "288: loss=1.1821  acc=0.8438  delta_entropy=0.2627\n",
      "304: loss=1.1913  acc=0.9231  delta_entropy=0.2189\n",
      "320: loss=1.4628  acc=0.7586  delta_entropy=0.4928\n",
      "336: loss=1.8153  acc=0.8519  delta_entropy=0.3416\n",
      "352: loss=1.5976  acc=0.7200  delta_entropy=0.4023\n",
      "368: loss=1.3489  acc=0.7586  delta_entropy=0.5248\n",
      "384: loss=1.0270  acc=0.8750  delta_entropy=0.3650\n",
      "400: loss=1.5329  acc=0.8276  delta_entropy=0.3828\n",
      "416: loss=1.7499  acc=0.8000  delta_entropy=0.4835\n",
      "432: loss=0.8364  acc=0.8788  delta_entropy=0.3466\n",
      "448: loss=2.1846  acc=0.7778  delta_entropy=0.5494\n",
      "464: loss=1.7667  acc=0.7812  delta_entropy=0.6814\n",
      "480: loss=0.9167  acc=0.8000  delta_entropy=0.2405\n",
      "496: loss=1.5599  acc=0.8276  delta_entropy=0.3484\n",
      "512: loss=1.0325  acc=0.8571  delta_entropy=0.3742\n",
      "528: loss=1.0589  acc=0.9655  delta_entropy=0.1809\n",
      "544: loss=1.4335  acc=0.8387  delta_entropy=0.5555\n",
      "560: loss=1.4680  acc=0.7778  delta_entropy=0.4413\n",
      "576: loss=0.9258  acc=0.9333  delta_entropy=0.2707\n",
      "592: loss=1.7526  acc=0.8125  delta_entropy=0.4286\n",
      "608: loss=1.6373  acc=0.8276  delta_entropy=0.3786\n",
      "624: loss=1.7927  acc=0.6897  delta_entropy=0.3798\n",
      "640: loss=1.8036  acc=0.8000  delta_entropy=0.5668\n",
      "656: loss=1.1454  acc=0.9032  delta_entropy=0.2056\n",
      "672: loss=1.5315  acc=0.8333  delta_entropy=0.3296\n",
      "688: loss=1.3588  acc=0.8966  delta_entropy=0.3215\n",
      "704: loss=1.7956  acc=0.8889  delta_entropy=0.2411\n",
      "720: loss=1.7079  acc=0.7931  delta_entropy=0.4938\n",
      "736: loss=1.1927  acc=0.8519  delta_entropy=0.4137\n",
      "752: loss=0.6496  acc=0.9394  delta_entropy=0.1853\n",
      "768: loss=1.1938  acc=0.8929  delta_entropy=0.3990\n",
      "784: loss=1.7194  acc=0.8889  delta_entropy=0.2907\n",
      "800: loss=1.3962  acc=0.8519  delta_entropy=0.3610\n",
      "816: loss=1.5139  acc=0.8667  delta_entropy=0.3317\n",
      "832: loss=1.0374  acc=0.9143  delta_entropy=0.3038\n",
      "848: loss=1.6437  acc=0.8214  delta_entropy=0.4679\n",
      "864: loss=1.3096  acc=0.8276  delta_entropy=0.2495\n",
      "880: loss=1.0691  acc=0.8846  delta_entropy=0.2676\n",
      "896: loss=1.3293  acc=0.8966  delta_entropy=0.2546\n"
     ]
    }
   ],
   "source": [
    "val_logs = [validation_epoch(model, val_loader=dataloader_test, device=device)]\n",
    "history = [] \n",
    "val_logs.append(validation_epoch(model, val_loader=dataloader_test, device=device))\n",
    "for ep in range (3):\n",
    "    print(f\"EPOCH {ep}:\")\n",
    "        \n",
    "    history.extend(train_epoch(model, opt, dataloader_train, args, device))\n",
    "\n",
    "    to_student(model)    \n",
    "    model.save_pretrained(f'peft_save/{EXP_NAME}_ep{ep}')\n",
    "    \n",
    "    val_logs.append(validation_epoch(model, val_loader=dataloader_test, device=device))"
   ]
  },
  {
   "cell_type": "code",
   "execution_count": 32,
   "id": "46e7dc37-c798-47ec-9230-7d9b35f51238",
   "metadata": {
    "tags": []
   },
   "outputs": [
    {
     "data": {
      "image/png": "[encoded data removed]",
      "text/plain": [
       "<Figure size 1000x400 with 2 Axes>"
      ]
     },
     "metadata": {},
     "output_type": "display_data"
    }
   ],
   "source": [
    "plot_history(history, window=20)"
   ]
  },
  {
   "cell_type": "code",
   "execution_count": 1,
   "id": "a442bfc0-9269-4b16-8df2-928af07b404f",
   "metadata": {},
   "outputs": [
    {
     "name": "stderr",
     "output_type": "stream",
     "text": [
      "UsageError: Cell magic `%%stop` not found.\n"
     ]
    }
   ],
   "source": [
    "%%stop"
   ]
  },
  {
   "cell_type": "code",
   "execution_count": 35,
   "id": "99fe9fcd-ac4a-4f63-a0d1-4ecf4f221105",
   "metadata": {
    "tags": []
   },
   "outputs": [],
   "source": [
    "model.save_pretrained(f'peft_save/{EXP_NAME}')"
   ]
  },
  {
   "cell_type": "raw",
   "id": "c87449a9-050d-45ac-8616-e19496cfde3e",
   "metadata": {
    "tags": []
   },
   "source": [
    "# torch.save(opt.state_dict, f'peft_save/opt_{EXP_NAME}')"
   ]
  },
  {
   "cell_type": "markdown",
   "id": "e82486dc-ca49-4018-a6a3-9175339dade0",
   "metadata": {},
   "source": [
    "## Test model"
   ]
  },
  {
   "cell_type": "code",
   "execution_count": 43,
   "id": "5977f2bc-77ee-40e6-9a0a-5e773d34737a",
   "metadata": {
    "tags": []
   },
   "outputs": [
    {
     "name": "stdout",
     "output_type": "stream",
     "text": [
      "1. crows, 2. pigeons, 3. doves.\n",
      "Sparrow, Robin and Hummingbird\n",
      "pigeons, sparrows, seagulls.\n"
     ]
    }
   ],
   "source": [
    "# simple inference test\n",
    "prompt = \"return just words, separated by commas:\\nQuestion: name 3 random birds.\\nAnswer:\"\n",
    "\n",
    "result = model_inference(prompt, model=model, tokenizer=prefix_tokenizer, stop_token_id=13, num_return_sequences=3,\n",
    "                        max_new_tokens=32)\n",
    "print(*result, sep = '\\n')"
   ]
  },
  {
   "cell_type": "markdown",
   "id": "35c2174d-556a-481d-b7f5-8c4eb0e18c3f",
   "metadata": {},
   "source": [
    "### zero-shot no cot"
   ]
  },
  {
   "cell_type": "code",
   "execution_count": 44,
   "id": "a944fb4a-8645-4443-a6e4-bc014054ea15",
   "metadata": {
    "tags": []
   },
   "outputs": [],
   "source": [
    "kojima_zero_template  = \"Q: {}\\n\" + \"A: The answer is\""
   ]
  },
  {
   "cell_type": "code",
   "execution_count": 45,
   "id": "cb04dd14-9b76-4aec-bdc6-196257c366c0",
   "metadata": {
    "scrolled": true,
    "tags": []
   },
   "outputs": [
    {
     "data": {
      "application/vnd.jupyter.widget-view+json": {
       "model_id": "cfee9f15dc2a4904a75128ff458bfd9e",
       "version_major": 2,
       "version_minor": 0
      },
      "text/plain": [
       "  0%|          | 0/200 [00:00<?, ?it/s]"
      ]
     },
     "metadata": {},
     "output_type": "display_data"
    },
    {
     "name": "stdout",
     "output_type": "stream",
     "text": [
      "0: False 20.0!=18.0 c=0.5, t=2.2s, ans:[22.0, 22.0, 20.0, 16.0, 20.0, 20.0, 20.0, 22.0]\n",
      "1: False 5.0!=3.0 c=0.8, t=8.2s, ans:[5.0, 5.0, 5.0, 5.0, 3.0, 5.0, 3.0, 5.0]\n",
      "2: False 95000.0!=70000.0 c=0.1, t=8.8s, ans:[135000.0, 145000.0, 95000.0, 140000.0, 170000.0, 110000.0, 165000.0, 120000.0]\n",
      "3: False 3240.0!=540.0 c=0.4, t=8.1s, ans:[1380.0, 3240.0, 1800.0, 1080.0, 1260.0, 3240.0, 1260.0, 3240.0]\n",
      "4: False 30.0!=20.0 c=0.5, t=9.3s, ans:[20.0, 35.0, 30.0, 50.0, 30.0, 30.0, 25.0, 30.0]\n",
      "5: False 56.0!=64.0 c=0.2, t=8.1s, ans:[56.0, 60.0, 96.0, 48.0, 64.0, 76.0, 64.0, 56.0]\n",
      "6: False 120.0!=260.0 c=0.5, t=8.0s, ans:[140.0, 140.0, 120.0, 100.0, 120.0, 140.0, 120.0, 120.0]\n",
      "7: False 140.0!=160.0 c=0.4, t=3.8s, ans:[140.0, 140.0, 340.0, 120.0, 240.0, 130.0, 280.0, 140.0]\n",
      "8: False 180.0!=45.0 c=0.2, t=2.9s, ans:[180.0, 240.0, 510.0, 120.0, 270.0, 180.0, 205.0, 270.0]\n",
      "9: False 540.0!=460.0 c=0.4, t=1.9s, ans:[4.0, 480.0, 110.0, 540.0, 540.0, 450.0, 500.0, 540.0]\n",
      "10: False 252.0!=366.0 c=0.4, t=1.8s, ans:[392.0, 292.0, 352.0, 252.0, 302.0, 252.0, 294.0, 252.0]\n",
      "11: False !=694.0 c=0.1, t=8.2s, ans:[377.0, 341.0, 430.0, 731.0, 351.0, '', 1106.0, 1560.0]\n",
      "12: False 3.0!=13.0 c=0.2, t=8.3s, ans:[14.0, 16.0, 3.0, 4.0, 14.0, 6.0, 3.0, 5.0]\n",
      "13: False 20.0!=18.0 c=0.9, t=5.0s, ans:[20.0, 20.0, 20.0, 20.0, 21.0, 20.0, 20.0, 20.0]\n",
      "14: False 50.0!=60.0 c=0.5, t=7.8s, ans:[55.0, 50.0, 55.0, 50.0, 50.0, 55.0, 55.0, 50.0]\n",
      "15: False 25.0!=125.0 c=0.2, t=8.1s, ans:[98.0, 9010.0, '', 275.0, 95.0, 880.0, 25.0, 25.0]\n",
      "16: False 280.0!=230.0 c=0.4, t=7.3s, ans:[280.0, 360.0, 280.0, '', 280.0, 320.0, 380.0, 400.0]\n",
      "17: False 44100.0!=57500.0 c=0.1, t=7.8s, ans:[57000.0, 67000.0, 72500.0, 56000.0, 66000.0, 44100.0, 58500.0, 77000.0]\n",
      "18: False 6.0!=7.0 c=0.2, t=1.8s, ans:[12.0, 6.0, 2.0, 8.0, 6.0, 4.0, '', 8.0]\n",
      "19: False 2.0!=6.0 c=0.5, t=7.8s, ans:[2.0, 2.0, 6.0, 2.0, 6.0, 3.0, 2.0, 5.0]\n",
      "20: False 12.0!=15.0 c=0.2, t=2.1s, ans:[13.0, 12.0, 12.0, 14.0, 14.0, 13.0, 11.0, 10.0]\n",
      "21: False 16.0!=14.0 c=0.4, t=4.9s, ans:[6.0, 12.0, 16.0, 16.0, 22.0, 8.0, 8.0, 16.0]\n",
      "22: False 5.0!=7.0 c=0.4, t=7.7s, ans:[6.0, 7.0, '', 5.0, 6.0, 5.0, 5.0, 7.0]\n",
      "23: False 10.0!=8.0 c=0.5, t=8.1s, ans:[6.0, 10.0, 10.0, 8.0, 10.0, 8.0, 10.0, 8.0]\n",
      "24: False 26.0!=26.0 c=0.8, t=1.5s, ans:[12.0, '', 26.0, 26.0, 26.0, 26.0, 26.0, 26.0]\n",
      "25: False 3.0!=2.0 c=0.4, t=8.2s, ans:[5.0, 3.0, 2.0, 1.0, 3.0, '', 3.0, 2.0]\n",
      "26: False !=243.0 c=0.1, t=7.9s, ans:[438.0, 330.0, 329.0, 248.0, 308.0, '', 277.0, 257.0]\n",
      "27: False 12.0!=16.0 c=0.4, t=8.1s, ans:[12.0, 8.0, 8.0, 24.0, 40.0, 40.0, 12.0, 12.0]\n",
      "28: False 25.0!=25.0 c=0.9, t=8.0s, ans:[25.0, 25.0, 25.0, '', 25.0, 25.0, 25.0, 25.0]\n",
      "29: False !=104.0 c=0.1, t=7.9s, ans:[120.0, 66.0, 84.0, 124.0, 99.0, 97.0, 93.0, '']\n",
      "30: False 80.0!=109.0 c=0.1, t=1.9s, ans:[80.0, 87.0, 97.0, 92.0, 82.0, 88.0, 95.0, 105.0]\n",
      "31: False 95.0!=80.0 c=0.4, t=6.7s, ans:[90.0, 100.0, 95.0, 95.0, 90.0, 85.0, 95.0, 85.0]\n",
      "32: False 70.0!=35.0 c=0.8, t=8.5s, ans:[35.0, 70.0, 70.0, 70.0, 35.0, 70.0, 70.0, 70.0]\n",
      "33: False 65.0!=70.0 c=0.6, t=8.1s, ans:[65.0, 65.0, 70.0, 65.0, 55.0, 65.0, 60.0, 65.0]\n",
      "34: True 23.0=23.0 c=0.6, t=8.1s, ans:[23.0, 14.0, 23.0, 23.0, 32.0, 23.0, 23.0, 33.0]\n",
      "35: False 14.0!=9.0 c=0.6, t=1.4s, ans:[14.0, 10.0, 14.0, 14.0, 10.0, 12.0, 14.0, 14.0]\n",
      "36: False 25.0!=75.0 c=0.8, t=7.7s, ans:[25.0, 25.0, 15.0, 15.0, 25.0, 25.0, 25.0, 25.0]\n",
      "37: False 3.0!=2.0 c=0.8, t=1.3s, ans:[3.0, 3.0, 3.0, 3.0, 3.0, 2.0, 1.0, 3.0]\n",
      "38: True 10.0=10.0 c=0.8, t=2.1s, ans:[10.0, 10.0, 5.0, 10.0, 10.0, 10.0, 10.0, 20.0]\n",
      "39: False !=18.0 c=0.2, t=6.1s, ans:[10.0, '', '', 6.0, 12.0, 18.0, 12.0, 3.0]\n",
      "40: True 8.0=8.0 c=0.6, t=7.6s, ans:[8.0, 10.0, 8.0, 10.0, 8.0, 8.0, 8.0, 10.0]\n",
      "41: False 1200.0!=200.0 c=0.8, t=2.8s, ans:[1200.0, 1200.0, 800.0, 1200.0, 1200.0, '', 1200.0, 1200.0]\n",
      "42: False 34.0!=26.0 c=0.4, t=1.7s, ans:[34.0, 34.0, 31.0, 36.0, 36.0, 31.0, 34.0, 26.0]\n",
      "43: False 30.0!=48.0 c=0.1, t=2.0s, ans:[30.0, 40.0, 100.0, 80.0, 90.0, 110.0, 60.0, 50.0]\n",
      "44: False 30.0!=20.0 c=0.4, t=8.0s, ans:[30.0, 20.0, 30.0, 10.0, 10.0, 30.0, '', 20.0]\n",
      "45: False 56.0!=104.0 c=0.5, t=8.1s, ans:[56.0, 72.0, 56.0, 72.0, 56.0, 44.0, 56.0, 48.0]\n",
      "46: False 133.0!=163.0 c=0.4, t=2.2s, ans:[103.0, 200.0, 83.0, 123.0, 133.0, 133.0, 133.0, 153.0]\n",
      "47: False 840.0!=800.0 c=0.2, t=1.7s, ans:[760.0, 840.0, 720.0, 420.0, 640.0, 1120.0, 840.0, 960.0]\n",
      "48: False 16.0!=8.0 c=0.4, t=1.6s, ans:[16.0, 8.0, 10.0, 16.0, 6.0, 12.0, 16.0, 8.0]\n",
      "49: False 20.0!=30.0 c=0.6, t=5.9s, ans:[20.0, 40.0, 40.0, 20.0, 20.0, 20.0, 8.0, 20.0]\n",
      "50: False 84.0!=294.0 c=0.6, t=7.6s, ans:[84.0, 84.0, 84.0, 50.0, 756.0, 84.0, 210.0, 84.0]\n",
      "51: False 4.0!=5.0 c=0.5, t=7.7s, ans:[4.0, 5.0, 2.0, 5.0, 4.0, 5.0, 4.0, 4.0]\n",
      "52: False 5.0!=15.0 c=0.8, t=8.0s, ans:[5.0, 5.0, 10.0, 10.0, 5.0, 5.0, 5.0, 5.0]\n",
      "53: False 240.0!=40.0 c=0.4, t=8.4s, ans:[120.0, 320.0, '', 240.0, 120.0, 240.0, 200.0, 240.0]\n",
      "54: False 33.0!=40.0 c=0.2, t=8.4s, ans:[35.0, 26.0, 38.0, 31.0, 33.0, 35.0, 33.0, 38.0]\n",
      "55: True 14.0=14.0 c=0.8, t=3.8s, ans:[14.0, 14.0, 14.0, 14.0, 15.0, 14.0, 14.0, 15.0]\n",
      "56: True 3.0=3.0 c=0.4, t=6.8s, ans:[4.0, 3.0, 6.0, 3.0, 6.0, 4.0, 3.0, 6.0]\n",
      "57: False 120.0!=83.0 c=0.2, t=2.5s, ans:[120.0, 120.0, 150.0, 200.0, 180.0, 200.0, 100.0, 150.0]\n",
      "58: False 51.0!=57.0 c=0.4, t=8.2s, ans:[53.0, 54.0, 51.0, 47.0, 50.0, 61.0, 51.0, 51.0]\n",
      "59: False 167.0!=187.0 c=0.4, t=1.8s, ans:[157.0, 147.0, 167.0, 202.0, 167.0, 204.0, 167.0, 154.0]\n",
      "60: False 18.0!=17.0 c=0.4, t=1.5s, ans:[17.0, 17.0, 18.0, 15.0, 16.0, 18.0, 13.0, 18.0]\n",
      "61: False 1470.0!=1430.0 c=0.6, t=8.0s, ans:[1470.0, 1470.0, 1400.0, 1470.0, 1470.0, 1380.0, 1470.0, 1400.0]\n",
      "62: False 35000.0!=25000.0 c=0.5, t=8.3s, ans:[35000.0, 35000.0, 75000.0, 50000.0, 75000.0, 35000.0, 35000.0, 40000.0]\n",
      "63: False 8920.0!=1596.0 c=0.2, t=8.1s, ans:[1512.0, 892.0, 8620.0, 8920.0, 1542.0, 8920.0, 8820.0, 852.0]\n",
      "64: True 300.0=300.0 c=0.9, t=2.8s, ans:[300.0, 300.0, 300.0, 400.0, 300.0, 300.0, 300.0, 300.0]\n",
      "65: True 36.0=36.0 c=0.2, t=7.8s, ans:[52.0, 72.0, 24.0, 64.0, 48.0, 36.0, 36.0, 60.0]\n",
      "66: False 44.0!=48.0 c=0.5, t=5.6s, ans:[44.0, 40.0, 52.0, 44.0, 50.0, 72.0, 44.0, 44.0]\n",
      "67: False 455.0!=595.0 c=0.2, t=5.1s, ans:['', 465.0, 375.0, 455.0, 575.0, 630.0, 285.0, 455.0]\n",
      "68: False 12.0!=36.0 c=0.4, t=4.5s, ans:[12.0, 12.0, 12.0, 15.0, 8.0, 20.0, 15.0, 15.0]\n",
      "69: False 40.0!=60.0 c=0.4, t=7.9s, ans:[55.0, 40.0, 40.0, 40.0, 60.0, 45.0, 55.0, 50.0]\n",
      "70: False 2100.0!=7425.0 c=0.2, t=7.9s, ans:[1680.0, 2100.0, 2850.0, 2550.0, 2550.0, 1530.0, 1500.0, 2100.0]\n",
      "71: False 70.0!=60.0 c=0.6, t=7.9s, ans:[90.0, 70.0, 90.0, 70.0, 70.0, 90.0, 70.0, 70.0]\n",
      "72: False 152.0!=221.0 c=0.1, t=7.9s, ans:[201.0, 254.0, 186.0, 212.0, 258.0, 162.0, 152.0, 204.0]\n",
      "73: False !=255.0 c=0.1, t=8.3s, ans:[756.0, 53.0, 51.0, '', 201.0, 211.0, 498.0, 174.0]\n",
      "74: False 59.0!=88.0 c=0.1, t=8.9s, ans:[77.0, 63.0, 76.0, 59.0, 82.0, 84.0, 92.0, 112.0]\n",
      "75: False 18.0!=60.0 c=0.4, t=4.9s, ans:[20.0, 18.0, 20.0, '', '', 20.0, 18.0, 18.0]\n",
      "76: True 5.0=5.0 c=0.4, t=7.8s, ans:[6.0, 5.0, 4.0, 5.0, 5.0, 6.0, 4.0, 11.0]\n",
      "77: True 100.0=100.0 c=0.6, t=1.9s, ans:[100.0, 150.0, 100.0, 100.0, 150.0, 150.0, 100.0, 100.0]\n",
      "78: False 3.0!=6.0 c=0.4, t=2.0s, ans:[1.0, 3.0, 1.0, 3.0, 7.0, 3.0, 4.0, 6.0]\n",
      "79: True 70.0=70.0 c=1.0, t=7.8s, ans:[70.0, 70.0, 70.0, 70.0, 70.0, 70.0, 70.0, 70.0]\n",
      "80: False 6.0!=10.0 c=0.2, t=1.9s, ans:[6.0, 8.0, 8.0, 9.0, 4.0, 10.0, 6.0, '']\n",
      "81: False 27.0!=17.0 c=0.6, t=7.9s, ans:[37.0, 37.0, 27.0, 27.0, 27.0, 27.0, 37.0, 27.0]\n",
      "82: False 502.0!=623.0 c=0.2, t=2.1s, ans:[527.0, 502.0, 513.0, 504.0, 502.0, 497.0, 513.0, 510.0]\n",
      "83: True 600.0=600.0 c=1.0, t=1.6s, ans:[600.0, 600.0, 600.0, 600.0, 600.0, 600.0, 600.0, 600.0]\n",
      "84: False 14.0!=15.0 c=0.5, t=7.4s, ans:[15.0, 14.0, 15.0, 14.0, 14.0, '', 16.0, 14.0]\n",
      "85: False 52.0!=44.0 c=0.5, t=8.0s, ans:[52.0, 60.0, 48.0, 52.0, 52.0, '', 52.0, 64.0]\n",
      "86: False 24.0!=22.0 c=0.5, t=8.1s, ans:[28.0, 16.0, 24.0, 21.0, 14.0, 24.0, 24.0, 24.0]\n",
      "87: False 8160.0!=9360.0 c=0.2, t=8.6s, ans:[41400.0, 8160.0, 8424.0, 9360.0, 7920.0, 10080.0, 8460.0, 8160.0]\n",
      "88: True 8000.0=8000.0 c=0.9, t=5.5s, ans:[7000.0, 8000.0, 8000.0, 8000.0, 8000.0, 8000.0, 8000.0, 8000.0]\n",
      "89: True 24.0=24.0 c=0.4, t=1.5s, ans:[14.0, 21.0, 24.0, 24.0, 21.0, 24.0, 28.0, 18.0]\n",
      "90: False 250.0!=225.0 c=0.4, t=8.5s, ans:['', 250.0, '', 250.0, 225.0, 250.0, 275.0, 225.0]\n",
      "91: False 20.0!=28.0 c=0.8, t=1.9s, ans:[20.0, 20.0, 22.0, 20.0, 20.0, 20.0, 18.0, 20.0]\n",
      "92: False 8.0!=4.0 c=0.2, t=7.6s, ans:[8.0, 8.0, 14.0, 7.0, 12.0, 13.0, 14.0, 6.0]\n",
      "93: False 39.0!=36.0 c=0.4, t=5.7s, ans:[40.0, 39.0, 39.0, 41.0, 41.0, 37.0, 41.0, 39.0]\n",
      "94: False 192.0!=348.0 c=0.2, t=6.9s, ans:[192.0, 228.0, 212.0, 216.0, 192.0, 216.0, 360.0, 148.0]\n",
      "95: False 20.0!=40.0 c=0.4, t=6.7s, ans:[12.0, 20.0, 20.0, 20.0, 40.0, 40.0, 32.0, 40.0]\n",
      "96: False 3.0!=3.0 c=0.8, t=5.7s, ans:['', 3.0, 3.0, 2.0, 3.0, 3.0, 3.0, 3.0]\n",
      "97: True 12.0=12.0 c=0.6, t=8.2s, ans:[12.0, 24.0, 12.0, 12.0, 24.0, 12.0, 12.0, 24.0]\n",
      "98: False 10.0!=5.0 c=0.5, t=8.1s, ans:[10.0, 10.0, 7.0, 10.0, 10.0, 5.0, 5.0, 15.0]\n",
      "99: False !=58.0 c=0.2, t=7.0s, ans:[52.0, 48.0, 58.0, '', 48.0, 60.0, '', 50.0]\n",
      "100: False 240.0!=175.0 c=0.2, t=8.2s, ans:[230.0, 240.0, 200.0, 240.0, 210.0, 235.0, 150.0, 300.0]\n",
      "101: False 11.0!=6.0 c=0.2, t=8.0s, ans:[13.0, 11.0, 8.0, 13.0, 12.0, 9.0, 11.0, 12.0]\n",
      "102: False 28.0!=26.0 c=0.5, t=8.1s, ans:['', 35.0, 25.0, 28.0, 28.0, 28.0, 28.0, 35.0]\n",
      "103: False 84.0!=140.0 c=0.6, t=7.6s, ans:[84.0, 84.0, 140.0, 140.0, 84.0, 84.0, 140.0, 84.0]\n",
      "104: False 400.0!=500.0 c=0.9, t=7.5s, ans:[400.0, 400.0, 400.0, 400.0, 400.0, '', 400.0, 400.0]\n",
      "105: True 20.0=20.0 c=1.0, t=1.8s, ans:[20.0, 20.0, 20.0, 20.0, 20.0, 20.0, 20.0, 20.0]\n",
      "106: False 63.0!=72.0 c=0.2, t=7.6s, ans:[63.0, 111.0, 111.0, 54.0, 93.0, 63.0, 153.0, 93.0]\n",
      "107: False 2.0!=3.0 c=0.5, t=4.0s, ans:[6.0, 3.0, 2.0, 2.0, 2.0, 2.0, 4.0, 4.0]\n",
      "108: False 40.0!=50.0 c=0.6, t=8.2s, ans:[40.0, 40.0, 50.0, 40.0, 40.0, 40.0, 30.0, 45.0]\n",
      "109: True 28.0=28.0 c=1.0, t=7.8s, ans:[28.0, 28.0, 28.0, 28.0, 28.0, 28.0, 28.0, 28.0]\n",
      "110: False 21.0!=45.0 c=0.2, t=8.1s, ans:[2016.0, 21.0, 42.0, 32.0, 25.0, 21.0, 72.0, 36.0]\n",
      "111: False 24.0!=16.0 c=0.9, t=2.1s, ans:[24.0, 24.0, 32.0, 24.0, 24.0, 24.0, 24.0, 24.0]\n",
      "112: False 24.0!=24.0 c=0.9, t=2.0s, ans:[24.0, 24.0, 24.0, 24.0, 24.0, '', 24.0, 24.0]\n",
      "113: True 25.0=25.0 c=0.8, t=8.0s, ans:[20.0, 25.0, 20.0, 25.0, 25.0, 25.0, 25.0, 25.0]\n",
      "114: False 10.0!=6.0 c=0.5, t=6.7s, ans:[25.0, 7.0, 10.0, 10.0, 10.0, 7.0, 10.0, '']\n",
      "115: False !=90.0 c=0.1, t=5.3s, ans:[115.0, 80.0, 85.0, 140.0, 160.0, 95.0, 165.0, '']\n",
      "116: False 46.0!=42.0 c=0.6, t=7.7s, ans:[42.0, 40.0, 56.0, 46.0, 46.0, 46.0, 46.0, 46.0]\n",
      "117: True 360.0=360.0 c=1.0, t=7.5s, ans:[360.0, 360.0, 360.0, 360.0, 360.0, 360.0, 360.0, 360.0]\n",
      "118: False 5.0!=4.0 c=0.9, t=5.8s, ans:[5.0, 5.0, 5.0, 4.0, 5.0, 5.0, 5.0, 5.0]\n",
      "119: False 76800.0!=95200.0 c=0.1, t=7.9s, ans:[144000.0, 104000.0, 76800.0, 100800.0, 103200.0, 92000.0, 96000.0, 123200.0]\n",
      "120: True 240.0=240.0 c=0.8, t=7.6s, ans:[240.0, 240.0, 240.0, 600.0, 240.0, 240.0, 120.0, 240.0]\n",
      "121: False 31.0!=27.0 c=0.4, t=7.7s, ans:[41.0, 29.0, '', 31.0, 25.0, 31.0, 25.0, 31.0]\n",
      "122: False 43.0!=48.0 c=0.4, t=6.3s, ans:[39.0, 43.0, 43.0, 37.0, 45.0, '', 45.0, 43.0]\n",
      "123: False 55.0!=50.0 c=0.5, t=5.3s, ans:[45.0, 65.0, 55.0, 55.0, 55.0, 60.0, 55.0, 45.0]\n",
      "124: False 20.0!=10.0 c=0.5, t=7.6s, ans:[40.0, 20.0, 20.0, '', 40.0, 20.0, 40.0, 20.0]\n",
      "125: False 10.0!=10.0 c=0.8, t=2.4s, ans:[8.0, 10.0, 10.0, '', 10.0, 10.0, 10.0, 10.0]\n",
      "126: True 82.0=82.0 c=1.0, t=9.5s, ans:[82.0, 82.0, 82.0, 82.0, 82.0, 82.0, 82.0, 82.0]\n",
      "127: False 90.0!=120.0 c=0.5, t=1.7s, ans:['', 90.0, 90.0, 90.0, 120.0, 120.0, 90.0, 120.0]\n",
      "128: False !=880.0 c=0.1, t=7.8s, ans:[305.0, 310.0, 245.0, 435.0, 375.0, 410.0, '', 365.0]\n",
      "129: False 15000.0!=10000.0 c=0.4, t=7.4s, ans:[15000.0, 75000.0, 10000.0, '', '', 15000.0, 75000.0, 15000.0]\n",
      "130: True 30.0=30.0 c=0.9, t=7.8s, ans:[30.0, 30.0, 30.0, 40.0, 30.0, 30.0, 30.0, 30.0]\n",
      "131: True 940.0=940.0 c=0.9, t=1.6s, ans:[940.0, 940.0, 940.0, 940.0, 940.0, 490.0, 940.0, 940.0]\n",
      "132: True 60.0=60.0 c=0.4, t=2.0s, ans:[60.0, 60.0, 84.0, 60.0, 72.0, 54.0, 54.0, 100.0]\n",
      "133: False 27.0!=13.0 c=0.5, t=1.6s, ans:[25.0, 27.0, 27.0, 27.0, 31.0, 27.0, 29.0, 31.0]\n",
      "134: False 600.0!=720.0 c=0.4, t=7.4s, ans:[216.0, 600.0, 240.0, 720.0, 288.0, 720.0, 600.0, 600.0]\n",
      "135: False 45.0!=40.0 c=0.4, t=7.4s, ans:[40.0, 45.0, 60.0, 45.0, 45.0, 55.0, 40.0, 55.0]\n",
      "136: False 11.0!=6.0 c=0.8, t=7.5s, ans:[9.0, 11.0, 11.0, 11.0, 5.0, 11.0, 11.0, 11.0]\n",
      "137: False 25.0!=29.0 c=0.2, t=7.7s, ans:[32.0, 26.0, 24.0, 31.0, 25.0, 25.0, 27.0, 30.0]\n",
      "138: False 15.0!=105.0 c=0.2, t=4.8s, ans:[55.0, 45.0, 45.0, 15.0, 15.0, '', 35.0, 35.0]\n",
      "139: False 62.0!=70.0 c=0.5, t=5.9s, ans:[62.0, 60.0, 62.0, 54.0, 60.0, 62.0, 60.0, 62.0]\n",
      "140: True 20.0=20.0 c=1.0, t=5.5s, ans:[20.0, 20.0, 20.0, 20.0, 20.0, 20.0, 20.0, 20.0]\n",
      "141: False 350.0!=400.0 c=0.6, t=7.5s, ans:[350.0, 400.0, 400.0, 350.0, 350.0, 350.0, 350.0, 400.0]\n",
      "142: True 140.0=140.0 c=0.8, t=7.6s, ans:[140.0, 70.0, 140.0, 140.0, 1995.0, 140.0, 140.0, 140.0]\n",
      "143: True 16.0=16.0 c=0.5, t=7.7s, ans:[20.0, 17.0, 16.0, 16.0, 21.0, 16.0, 17.0, 16.0]\n",
      "144: False 69.0!=20.0 c=0.2, t=8.0s, ans:[30.0, 69.0, 51.0, 62.0, 69.0, 54.0, 66.0, 76.0]\n",
      "145: True 4000.0=4000.0 c=1.0, t=7.2s, ans:[4000.0, 4000.0, 4000.0, 4000.0, 4000.0, 4000.0, 4000.0, 4000.0]\n",
      "146: False 2500.0!=2125.0 c=0.4, t=7.5s, ans:[1875.0, 2250.0, 1500.0, 2250.0, 2500.0, 2500.0, 2500.0, 2000.0]\n",
      "147: False 90.0!=75.0 c=0.8, t=5.1s, ans:[90.0, 45.0, 90.0, 90.0, '', 90.0, 90.0, 90.0]\n",
      "148: False 25.0!=30.0 c=0.4, t=7.6s, ans:[25.0, 30.0, '', 30.0, 40.0, 25.0, 30.0, 25.0]\n",
      "149: True 16.0=16.0 c=0.8, t=1.8s, ans:[16.0, 16.0, 8.0, 16.0, 16.0, 16.0, 20.0, 16.0]\n",
      "150: False 10.0!=4.0 c=0.4, t=6.0s, ans:[4.0, 10.0, 10.0, 2.0, 5.0, 10.0, 8.0, 5.0]\n",
      "151: True 5.0=5.0 c=0.6, t=7.9s, ans:[5.0, 3.0, 5.0, 5.0, 5.0, 4.0, 4.0, 5.0]\n",
      "152: True 4.0=4.0 c=0.5, t=7.5s, ans:[4.0, 3.0, 2.0, 2.0, 4.0, 4.0, 4.0, 1.0]\n",
      "153: False 56.0!=48.0 c=0.2, t=8.3s, ans:[40.0, 46.0, 56.0, 60.0, 56.0, 33.0, 51.0, 31.0]\n",
      "154: False 240.0!=272.0 c=0.4, t=7.8s, ans:[264.0, 288.0, 144.0, 240.0, 240.0, 288.0, 208.0, 240.0]\n",
      "155: False 100.0!=280.0 c=0.4, t=7.7s, ans:[75.0, 50.0, 54.0, 100.0, 60.0, 100.0, 100.0, 240.0]\n",
      "156: True 1400.0=1400.0 c=0.2, t=7.8s, ans:[1400.0, 1400.0, 1600.0, 1600.0, 1800.0, 1800.0, 3200.0, 2000.0]\n",
      "157: False 50.0!=80.0 c=0.4, t=7.9s, ans:[50.0, 140.0, 70.0, 50.0, 150.0, 50.0, 500.0, 110.0]\n",
      "158: True 34.0=34.0 c=0.4, t=3.1s, ans:[34.0, 36.0, 31.0, 29.0, 32.0, 34.0, 34.0, 32.0]\n",
      "159: True 15.0=15.0 c=0.9, t=7.8s, ans:[15.0, 15.0, 15.0, 15.0, 15.0, 15.0, 15.0, 9.0]\n",
      "160: False 13.0!=16.0 c=0.5, t=7.9s, ans:[15.0, 13.0, '', 15.0, 13.0, 13.0, 17.0, 13.0]\n",
      "161: False 19.0!=32.0 c=0.2, t=7.8s, ans:[32.0, 19.0, 28.0, 28.0, 26.0, 29.0, 19.0, 24.0]\n",
      "162: False 54.0!=92.0 c=0.4, t=7.6s, ans:[64.0, 100.0, 48.0, 54.0, 54.0, 80.0, 108.0, 54.0]\n",
      "163: False 41.0!=50.0 c=0.1, t=7.6s, ans:[44.0, 54.0, 41.0, 59.0, 50.0, 64.0, 45.0, 53.0]\n",
      "164: False 60.0!=15.0 c=0.1, t=8.0s, ans:[135.0, 60.0, 80.0, 85.0, 95.0, 65.0, 70.0, 125.0]\n",
      "165: False 77.0!=77.0 c=0.5, t=2.3s, ans:[77.0, 77.0, 77.0, 177.0, 177.0, '', 67.0, 77.0]\n",
      "166: True 5.0=5.0 c=1.0, t=7.6s, ans:[5.0, 5.0, 5.0, 5.0, 5.0, 5.0, 5.0, 5.0]\n",
      "167: False 18.0!=16.0 c=0.5, t=7.5s, ans:[16.0, 18.0, 20.0, '', 20.0, 18.0, 18.0, 18.0]\n",
      "168: False 20.0!=18.0 c=0.5, t=1.3s, ans:[20.0, 18.0, 20.0, 20.0, 20.0, 18.0, 22.0, '']\n",
      "169: False 130.0!=120.0 c=0.9, t=7.5s, ans:[130.0, 130.0, 130.0, 130.0, 130.0, 130.0, 130.0, 150.0]\n",
      "170: False 125.0!=150.0 c=0.5, t=7.6s, ans:[125.0, 125.0, 180.0, 150.0, 125.0, 135.0, 135.0, 125.0]\n",
      "171: False 732.0!=1210.0 c=0.1, t=7.5s, ans:[842.0, 834.0, 900.0, 1158.0, 1222.0, 732.0, 1442.0, 1332.0]\n",
      "172: False 56.0!=51.0 c=0.4, t=7.7s, ans:[56.0, 58.0, 70.0, 56.0, 56.0, 46.0, 50.0, 36.0]\n",
      "173: False 4020.0!=18000.0 c=0.1, t=7.8s, ans:[13200.0, 17250.0, 25200.0, 16800.0, 4020.0, 23400.0, 27000.0, 39000.0]\n",
      "174: False 90.0!=95.0 c=0.5, t=2.2s, ans:[97.0, 90.0, 91.0, 90.0, 90.0, '', 91.0, 90.0]\n",
      "175: False 6.0!=15.0 c=0.2, t=3.5s, ans:[6.0, 36.0, 18.0, 30.0, 15.0, 12.0, 6.0, 15.0]\n",
      "176: False 60.0!=100.0 c=0.4, t=7.6s, ans:[60.0, 80.0, 80.0, 120.0, 60.0, 60.0, 40.0, 120.0]\n",
      "177: False 500.0!=350.0 c=0.2, t=2.3s, ans:[1360.0, 500.0, 1640.0, 1840.0, 1730.0, 500.0, 1600.0, 1000.0]\n",
      "178: False 120.0!=122.0 c=0.4, t=7.5s, ans:[120.0, 120.0, 130.0, 132.0, 120.0, 90.0, 132.0, 140.0]\n",
      "179: True 130.0=130.0 c=0.9, t=7.5s, ans:[130.0, 230.0, 130.0, 130.0, 130.0, 130.0, 130.0, 130.0]\n",
      "180: True 20.0=20.0 c=1.0, t=2.2s, ans:[20.0, 20.0, 20.0, 20.0, 20.0, 20.0, 20.0, 20.0]\n",
      "181: True 160.0=160.0 c=0.5, t=2.8s, ans:[160.0, 320.0, 160.0, 160.0, 320.0, 80.0, 320.0, 160.0]\n",
      "182: False 24.0!=23.0 c=0.4, t=1.3s, ans:[17.0, 28.0, 24.0, 27.0, 24.0, 24.0, 37.0, 17.0]\n",
      "183: False 18.0!=2.0 c=0.4, t=8.1s, ans:[18.0, 15.0, 18.0, 18.0, 22.0, 7.0, '', 6.0]\n",
      "184: False 40.0!=25.0 c=0.4, t=1.9s, ans:[50.0, 66.0, 40.0, 40.0, 40.0, 200.0, 50.0, 50.0]\n",
      "185: True 30.0=30.0 c=0.8, t=5.1s, ans:[20.0, 30.0, 30.0, 30.0, 20.0, 30.0, 30.0, 30.0]\n",
      "186: False 2.0!=5.0 c=0.6, t=3.0s, ans:[2.0, 2.0, 3.0, 2.0, 3.0, 3.0, 2.0, 2.0]\n",
      "187: True 106.0=106.0 c=0.6, t=7.7s, ans:[8.0, 106.0, 106.0, 106.0, 4.0, 106.0, 106.0, 2.0]\n",
      "188: False 20.0!=50.0 c=0.5, t=7.8s, ans:[20.0, 20.0, 30.0, 50.0, 25.0, 50.0, 20.0, 20.0]\n",
      "189: False 22.0!=34.0 c=0.4, t=7.7s, ans:[22.0, 36.0, 27.0, 28.0, 21.0, 22.0, 22.0, 27.0]\n",
      "190: True 360.0=360.0 c=1.0, t=10.4s, ans:[360.0, 360.0, 360.0, 360.0, 360.0, 360.0, 360.0, 360.0]\n",
      "191: False 25.0!=5.0 c=0.6, t=5.3s, ans:[25.0, 25.0, 25.0, 21.0, 25.0, 20.0, 21.0, 25.0]\n",
      "192: False 52.0!=91.0 c=0.2, t=1.8s, ans:[64.0, 49.0, 67.0, 97.0, 52.0, 73.0, 52.0, 82.0]\n",
      "193: False 18.0!=24.0 c=0.6, t=8.3s, ans:[18.0, '', 18.0, 18.0, 13.0, 18.0, 12.0, 18.0]\n",
      "194: True 10.0=10.0 c=0.6, t=5.0s, ans:[5.0, 5.0, 10.0, 5.0, 10.0, 10.0, 10.0, 10.0]\n",
      "195: True 12.0=12.0 c=0.2, t=7.7s, ans:[15.0, 8.0, 9.0, 18.0, 12.0, 12.0, 10.0, 9.6]\n",
      "196: False 20.0!=120.0 c=0.9, t=1.7s, ans:[20.0, 20.0, 20.0, 20.0, 20.0, 10.0, 20.0, 20.0]\n",
      "197: True 6277.0=6277.0 c=1.0, t=7.5s, ans:[6277.0, 6277.0, 6277.0, 6277.0, 6277.0, 6277.0, 6277.0, 6277.0]\n",
      "198: False !=320.0 c=0.2, t=7.8s, ans:[140.0, 190.0, 190.0, 180.0, '', '', 130.0, 160.0]\n",
      "199: False 7500.0!=7500.0 c=0.5, t=5.5s, ans:[7500.0, 7500.0, 75.0, 10000.0, 7500.0, 7500.0, 5000.0, '']\n"
     ]
    }
   ],
   "source": [
    "log_basic = test_gsm(\n",
    "    model=model, \n",
    "    tokenizer=prefix_tokenizer, \n",
    "    template=kojima_zero_template, \n",
    "    end_of_answer_token_id = 13, \n",
    "    verbose=True, \n",
    "    max_length=32,\n",
    "    num_return_sequences = 8,\n",
    "    test_range = (0, 200)\n",
    ")"
   ]
  },
  {
   "cell_type": "code",
   "execution_count": 46,
   "id": "819b3037-df30-4fce-9c3d-2b053e7331ab",
   "metadata": {
    "tags": []
   },
   "outputs": [
    {
     "data": {
      "text/plain": [
       "(0.215, 0.226875)"
      ]
     },
     "execution_count": 46,
     "metadata": {},
     "output_type": "execute_result"
    }
   ],
   "source": [
    "score_log2(log_basic)"
   ]
  },
  {
   "cell_type": "code",
   "execution_count": 50,
   "id": "4c73e6c2-0ee7-45bf-a7c3-03e85a5d6e69",
   "metadata": {
    "tags": []
   },
   "outputs": [],
   "source": [
    "torch.save(log_basic, f\"logs_save/{EXP_NAME}_nocot.pt\")"
   ]
  },
  {
   "cell_type": "code",
   "execution_count": null,
   "id": "0f7bb4bd-a414-4abb-8a3b-d49d62d7c880",
   "metadata": {
    "tags": []
   },
   "outputs": [],
   "source": [
    "torch.save(log_basic, './logs_save/L2_70_zero_8_ko_log.pt')"
   ]
  },
  {
   "cell_type": "code",
   "execution_count": null,
   "id": "67c68352-4344-4299-abe0-00de0ef89b23",
   "metadata": {},
   "outputs": [],
   "source": []
  },
  {
   "cell_type": "code",
   "execution_count": 47,
   "id": "349d5a90-4053-401b-877e-2302cb3f3ce9",
   "metadata": {
    "scrolled": true,
    "tags": []
   },
   "outputs": [
    {
     "data": {
      "application/vnd.jupyter.widget-view+json": {
       "model_id": "182ccc3b8f08443f996595d349a3554b",
       "version_major": 2,
       "version_minor": 0
      },
      "text/plain": [
       "  0%|          | 0/200 [00:00<?, ?it/s]"
      ]
     },
     "metadata": {},
     "output_type": "display_data"
    },
    {
     "name": "stdout",
     "output_type": "stream",
     "text": [
      "0: True 18.0=18.0 c=0.9, t=18.7s, ans:[18.0, 9.0, 18.0, 18.0, 18.0, 18.0, 18.0, 18.0]\n",
      "1: True 3.0=3.0 c=0.9, t=19.7s, ans:[3.0, 3.0, 3.0, 3.0, 3.0, 4.0, 3.0, 3.0]\n",
      "2: False 130000.0≠70000.0 c=0.4, t=44.2s, ans:[130000.0, 130000.0, 10000.0, 250000.0, 90000.0, 130000.0, 195000.0, 40000.0]\n",
      "3: True 540.0=540.0 c=0.8, t=27.5s, ans:[540.0, 180.0, 540.0, 540.0, 540.0, 540.0, 3.0, 540.0]\n",
      "4: False 10.0≠20.0 c=0.4, t=45.8s, ans:[10.0, 20.0, 10.0, 10.0, 20.0, 13.0, 7.0, 3.0]\n",
      "5: False 56.0≠64.0 c=0.2, t=31.8s, ans:[5000.0, 68.0, 56.0, 24.0, 56.0, 80.0, 68.0, 128.0]\n",
      "6: True 260.0=260.0 c=0.5, t=36.4s, ans:[260.0, 260.0, 200.0, 140.0, 260.0, 120.0, 500.0, 260.0]\n",
      "7: False 100.0≠160.0 c=0.2, t=35.2s, ans:[100.0, 40.0, 120.0, 80.0, 250.0, 160.0, 240.0, 100.0]\n",
      "8: False 20.0≠45.0 c=0.1, t=47.1s, ans:[80.0, 480.0, 270.0, 370.0, 355.0, 180.0, 144.0, 20.0]\n",
      "9: True 460.0=460.0 c=0.4, t=32.0s, ans:[460.0, 510.0, 453.0, 460.0, 460.0, 2011.0, 400.0, 25.0]\n",
      "10: False 186.0≠366.0 c=0.4, t=69.5s, ans:[186.0, 366.0, 186.0, 468.0, 366.0, 366.0, 186.0, 120.0]\n",
      "11: True 694.0=694.0 c=0.8, t=32.9s, ans:[694.0, 694.0, 694.0, 694.0, 694.0, 744.0, 465.0, 694.0]\n",
      "12: False 2.0≠13.0 c=0.1, t=45.4s, ans:[90.0, 9.0, 3.0, 10.0, 369.0, 10.5, 5.0, 2.0]\n",
      "13: False 2.0≠18.0 c=0.2, t=33.4s, ans:[42.0, 2.0, 2.0, 3.0, 5.0, 5.0, 16.0, 3.0]\n",
      "14: True 60.0=60.0 c=0.4, t=33.8s, ans:[60.0, 60.0, 80.0, 60.0, 20.0, 12.0, 4.0, 1.0]\n",
      "15: False 8096.0≠125.0 c=0.5, t=35.9s, ans:[100.0, 8096.0, 8096.0, 2.5, 260.0, 8096.0, 8096.0, 100.0]\n",
      "16: True 230.0=230.0 c=0.9, t=21.0s, ans:[230.0, 230.0, 230.0, 230.0, 230.0, 230.0, 230.0, 49.0]\n",
      "17: True 57500.0=57500.0 c=0.4, t=40.3s, ans:[56000.0, 57500.0, 35000.0, 57500.0, 57500.0, 25000.0, 1150.0, 62000.0]\n",
      "18: False 3.0≠7.0 c=0.2, t=23.7s, ans:[7.0, 63.0, 8.0, 84.0, 3.0, 3.0, 84.0, 7.0]\n",
      "19: True 6.0=6.0 c=0.5, t=34.2s, ans:[6.0, 6.0, 6.0, 3.0, 4.0, 3.0, 6.0, 8.0]\n",
      "20: False 14.0≠15.0 c=0.1, t=45.9s, ans:[15.0, 24.0, 33.3, 17.0, 28.0, 14.0, 86.0, 16.0]\n",
      "21: False 8.0≠14.0 c=0.4, t=36.7s, ans:[13.0, 10.0, 25.0, 8.0, 2.0, 8.0, 2.0, 8.0]\n",
      "22: False 5.0≠7.0 c=0.5, t=23.8s, ans:[7.0, 7.0, 5.0, 5.0, 5.0, 7.0, 5.0, 7.0]\n",
      "23: True 8.0=8.0 c=0.8, t=38.8s, ans:[8.0, 8.0, 8.0, 1000.0, 8.0, 8.0, 10.0, 8.0]\n",
      "24: False 20.0≠26.0 c=0.2, t=30.7s, ans:[26.0, 20.0, 78.0, 78.0, 24.0, 26.0, 2006.0, 20.0]\n",
      "25: True 2.0=2.0 c=0.8, t=39.0s, ans:[2.0, 2.0, 2.0, 2.0, 2.0, 3.0, 4.0, 2.0]\n",
      "26: True 243.0=243.0 c=0.5, t=39.1s, ans:[240.0, 243.0, 243.0, 249.0, 243.0, 126.0, 243.0, 225.0]\n",
      "27: True 16.0=16.0 c=0.4, t=34.6s, ans:[240.0, 1.0, 16.0, 60.0, 16.0, 16.0, 8.0, 15.0]\n",
      "28: True 25.0=25.0 c=0.4, t=45.7s, ans:[45.0, 25.0, 15.0, 25.0, 5.0, 20.0, 35.0, 25.0]\n",
      "29: True 104.0=104.0 c=0.4, t=26.7s, ans:[99.0, 104.0, 100.0, 94.0, 68.0, 104.0, 94.0, 104.0]\n",
      "30: False 11.0≠109.0 c=0.1, t=30.0s, ans:[105.0, 30.0, 122.0, 101.0, 11.0, 850.0, 142.0, 113.0]\n",
      "31: False 90.0≠80.0 c=0.4, t=58.5s, ans:[90.0, 145.0, 100.0, 80.0, 90.0, 66.0, 90.0, 3.0]\n",
      "32: True 35.0=35.0 c=0.6, t=22.0s, ans:[25.0, 50.0, 35.0, 35.0, 35.0, 35.0, 35.0, 50.0]\n",
      "33: False 30.0≠70.0 c=0.2, t=26.5s, ans:[50.0, 110.0, 45.0, 80.0, 60.0, 30.0, 30.0, 80.0]\n",
      "34: True 23.0=23.0 c=0.6, t=40.3s, ans:[27.0, 23.0, 900000.0, 23.0, 18.0, 23.0, 23.0, 23.0]\n",
      "35: True 9.0=9.0 c=0.4, t=29.7s, ans:[34.0, 10.0, 16.0, 9.0, 40.0, 9.0, 5.0, 9.0]\n",
      "36: False 60.0≠75.0 c=0.2, t=38.1s, ans:[75.0, 4.0, 60.0, 40.0, 15.0, 75.0, 60.0, 30.0]\n",
      "37: True 2.0=2.0 c=0.5, t=39.4s, ans:[3.0, 30.0, 2.0, 2.0, 160.0, 3.0, 2.0, 2.0]\n",
      "38: True 10.0=10.0 c=0.4, t=22.0s, ans:[10.0, 12.0, 1.0, 6.0, 3.0, 10.0, 10.0, 12.0]\n",
      "39: False 6.0≠18.0 c=0.2, t=43.8s, ans:[34.0, 20.0, 4.0, 3.0, 1.0, 6.0, 6.0, 60.0]\n",
      "40: False 4.0≠8.0 c=0.5, t=22.0s, ans:[4.0, 4.0, 8.0, 8.0, 4.0, 16.0, 4.0, 8.0]\n",
      "41: False 1200.0≠200.0 c=0.5, t=39.8s, ans:[500.0, 500.0, 600.0, 1200.0, 1000.0, 1200.0, 1200.0, 1200.0]\n",
      "42: True 26.0=26.0 c=0.8, t=39.3s, ans:[26.0, 26.0, 26.0, None, 26.0, 26.0, 26.0, 4.0]\n",
      "43: False 60.0≠48.0 c=0.4, t=31.2s, ans:[40.0, 1000.0, 60.0, 6.0, 60.0, 250.0, 30.0, 60.0]\n",
      "44: True 20.0=20.0 c=0.6, t=38.7s, ans:[20.0, 20.0, 10.0, 20.0, 20.0, 10.0, 20.0, 30.0]\n",
      "45: False 2.0≠104.0 c=0.1, t=43.2s, ans:[21.0, 4.0, 2.0, 52.0, 56.0, 15.0, 70.0, 44.0]\n",
      "46: False 1.0≠163.0 c=0.1, t=67.5s, ans:[150.0, 47.0, 1.0, 43.0, 23.0, 163.0, 80.0, 220.0]\n",
      "47: False 20.0≠800.0 c=0.1, t=38.9s, ans:[20.0, 4400.0, 360.0, 100.0, 800.0, 600.0, 200.0, 300.0]\n",
      "48: True 8.0=8.0 c=0.4, t=28.2s, ans:[8.0, 8.0, 12.0, 16.0, 24.0, 16.0, 8.0, 4.0]\n",
      "49: True 30.0=30.0 c=0.9, t=26.9s, ans:[30.0, 30.0, 30.0, 120.0, 30.0, 30.0, 30.0, 30.0]\n",
      "50: True 294.0=294.0 c=0.2, t=35.4s, ans:[42.0, 3528.0, 294.0, 147.0, 28.0, 441.0, 294.0, 14.7]\n",
      "51: False 6.0≠5.0 c=0.2, t=31.0s, ans:[4.0, 6.0, 9.0, 10.0, 3.0, 6.0, 5.0, 36.0]\n",
      "52: False 9.0≠15.0 c=0.2, t=42.2s, ans:[4.0, 9.0, 9.0, 10.0, 16.0, 16.0, 5.0, 30.0]\n",
      "53: True 40.0=40.0 c=0.4, t=44.7s, ans:[40.0, 40.0, 520.0, 520.0, 40.0, 60.0, 480.0, 200.0]\n",
      "54: False 33.0≠40.0 c=0.5, t=31.9s, ans:[40.0, 40.0, 33.0, 35.0, 40.0, 33.0, 33.0, 33.0]\n",
      "55: True 14.0=14.0 c=0.9, t=53.8s, ans:[14.0, 14.0, 14.0, 14.0, 14.0, 14.0, 13.0, 14.0]\n",
      "56: True 3.0=3.0 c=0.6, t=25.4s, ans:[3.0, 3.0, 3.0, 14.0, 2.0, 3.0, 3.0, 4.0]\n",
      "57: True 83.0=83.0 c=0.9, t=46.2s, ans:[83.0, 83.0, 93.0, 83.0, 83.0, 83.0, 83.0, 83.0]\n",
      "58: True 57.0=57.0 c=0.4, t=39.9s, ans:[57.0, 51.0, 10.0, 67.0, None, 57.0, 43.0, 57.0]\n",
      "59: True 187.0=187.0 c=0.9, t=25.9s, ans:[187.0, 187.0, 187.0, 187.0, 187.0, 2012.0, 187.0, 187.0]\n",
      "60: False 22.0≠17.0 c=0.4, t=26.0s, ans:[22.0, 17.0, 17.0, 19.0, 12.0, 22.0, 16.0, 22.0]\n",
      "61: True 1430.0=1430.0 c=0.5, t=30.1s, ans:[1320.0, 1410.0, 1300.0, 1380.0, 1430.0, 1430.0, 1430.0, 1430.0]\n",
      "62: False 3000.0≠25000.0 c=0.1, t=53.8s, ans:[3000.0, 52500.0, 37500.0, 155000.0, 65000.0, 25000.0, 110000.0, 75000.0]\n",
      "63: True 1596.0=1596.0 c=0.4, t=36.6s, ans:[3192.0, 924.0, 942.0, 2406.0, 1596.0, 1596.0, 1596.0, 1218.0]\n",
      "64: True 300.0=300.0 c=0.8, t=67.9s, ans:[300.0, 300.0, 300.0, 300.0, 300.0, 4.0, 300.0, 25.0]\n",
      "65: False 12.0≠36.0 c=0.2, t=30.4s, ans:[6.0, 2017.0, 24.0, 24.0, 48.0, 36.0, 12.0, 12.0]\n",
      "66: False 20.0≠48.0 c=0.1, t=22.7s, ans:[100.0, 24.0, 96.0, 60.0, 44.0, 40.0, 20.0, 52.0]\n",
      "67: True 595.0=595.0 c=0.4, t=29.7s, ans:[595.0, 350.0, 485.0, 595.0, 595.0, 280.0, 600.0, 420.0]\n",
      "68: False 12.0≠36.0 c=0.6, t=21.4s, ans:[90.0, 12.0, 24.0, 24.0, 12.0, 12.0, 12.0, 12.0]\n",
      "69: True 60.0=60.0 c=1.0, t=37.6s, ans:[60.0, 60.0, 60.0, 60.0, 60.0, 60.0, 60.0, 60.0]\n",
      "70: False 2925.0≠7425.0 c=0.4, t=50.7s, ans:[120.0, 3675.0, 7425.0, 33.0, 2925.0, 33.0, 2925.0, 2925.0]\n",
      "71: False 40.0≠60.0 c=0.4, t=22.6s, ans:[60.0, 60.0, 40.0, 40.0, 80.0, 1.8, 60.0, 40.0]\n",
      "72: True 221.0=221.0 c=0.8, t=29.4s, ans:[221.0, 221.0, 221.0, 135.0, 221.0, 221.0, 221.0, 162.0]\n",
      "73: False 750.0≠255.0 c=0.2, t=29.3s, ans:[765.0, 765.0, 735.0, 2250.0, 15.0, 750.0, 245.0, 750.0]\n",
      "74: True 88.0=88.0 c=0.5, t=44.0s, ans:[76.0, 88.0, 88.0, 92.0, 88.0, 88.0, 34.0, 105.0]\n",
      "75: False 4.0≠60.0 c=0.1, t=27.5s, ans:[4.0, 16.0, 6.0, 9.0, 128.0, 48.0, 7.0, 28.0]\n",
      "76: True 5.0=5.0 c=0.5, t=57.2s, ans:[180.0, 5.0, 5.0, 5.0, 5.0, 4.0, 545.0, 364.0]\n",
      "77: True 100.0=100.0 c=0.5, t=27.2s, ans:[150.0, 100.0, 600.0, 200.0, 100.0, 100.0, 100.0, 2.0]\n",
      "78: False -2.0≠6.0 c=0.1, t=36.1s, ans:[3.0, 6.0, 4.5, 21.0, 24.0, 2.0, -2.0, 9.0]\n",
      "79: True 70.0=70.0 c=0.9, t=23.0s, ans:[70.0, 70.0, 70.0, 70.0, 70.0, 70.0, 30.0, 70.0]\n",
      "80: True 10.0=10.0 c=0.4, t=27.2s, ans:[14.0, 14.0, 14.0, 0.0, 10.0, 6.0, 10.0, 10.0]\n",
      "81: True 17.0=17.0 c=0.4, t=23.8s, ans:[9.0, 27.0, 17.0, 54.0, 17.0, 8.0, 17.0, 27.0]\n",
      "82: True 623.0=623.0 c=0.6, t=72.6s, ans:[623.0, 623.0, 625.0, 623.0, 623.0, 500.0, 623.0, 2012.0]\n",
      "83: True 600.0=600.0 c=1.0, t=38.3s, ans:[600.0, 600.0, 600.0, 600.0, 600.0, 600.0, 600.0, 600.0]\n",
      "84: False 14.0≠15.0 c=0.9, t=22.7s, ans:[14.0, 14.0, 22.0, 14.0, 14.0, 14.0, 14.0, 14.0]\n",
      "85: True 44.0=44.0 c=0.8, t=51.6s, ans:[44.0, 44.0, 44.0, 6.0, 44.0, 365.0, 44.0, 44.0]\n",
      "86: True 22.0=22.0 c=0.9, t=27.8s, ans:[40.0, 22.0, 22.0, 22.0, 22.0, 22.0, 22.0, 22.0]\n",
      "87: False 660.0≠9360.0 c=0.2, t=31.8s, ans:[7200.0, 800.0, 918.0, 920.0, 8712.0, 660.0, 660.0, 882.0]\n",
      "88: True 8000.0=8000.0 c=0.6, t=33.7s, ans:[8800.0, 8000.0, 8000.0, 8000.0, 8800.0, 8000.0, 8000.0, 88000.0]\n",
      "89: True 24.0=24.0 c=0.6, t=59.3s, ans:[3.0, 24.0, 150.0, 24.0, 18.0, 24.0, 24.0, 24.0]\n",
      "90: True 225.0=225.0 c=0.4, t=40.5s, ans:[50.0, 225.0, 205.0, 225.0, 205.0, 250.0, 225.0, 5.0]\n",
      "91: False 18.0≠28.0 c=0.2, t=54.4s, ans:[2.0, 24.0, 28.0, 20.0, 22.0, 18.0, 21.0, 18.0]\n",
      "92: False 6.0≠4.0 c=0.5, t=41.7s, ans:[6.0, 10.0, 13.0, 8.0, 6.0, 6.0, 6.0, 7.0]\n",
      "93: False 4.0≠36.0 c=0.1, t=101.9s, ans:[13.0, 4.0, 44.0, 36.0, 11.58, 10.0, 40.0, 38.0]\n",
      "94: False 168.0≠348.0 c=0.2, t=98.3s, ans:[192.0, 180.0, 250.0, 180.0, 168.0, 168.0, 9.0, 192.0]\n",
      "95: False 20.0≠40.0 c=0.2, t=50.6s, ans:[20.0, 60.0, 20.0, 80.0, 100.0, 140.0, 40.0, 33.0]\n",
      "96: True 3.0=3.0 c=0.8, t=51.7s, ans:[3.0, 3.0, 3.0, 2.0, 3.0, 11.0, 3.0, 3.0]\n",
      "97: False 6.0≠12.0 c=0.2, t=112.2s, ans:[8.0, 78.0, 128.0, 12.0, 24.0, 10.0, 6.0, 6.0]\n",
      "98: True 5.0=5.0 c=0.6, t=59.6s, ans:[5.0, 30.0, 5.0, 10.0, 25.0, 5.0, 5.0, 5.0]\n",
      "99: True 58.0=58.0 c=0.6, t=55.5s, ans:[22.0, 40.0, 58.0, 58.0, 40.0, 58.0, 58.0, 58.0]\n",
      "100: True 175.0=175.0 c=0.2, t=69.2s, ans:[175.0, 0.0, 175.0, 70.0, 235.0, 5500.0, 3.0, 155.0]\n",
      "101: False 4.0≠26.0 c=0.2, t=80.5s, ans:[23.0, 4.0, 10.0, 15.0, 5.0, 4.0, 25.0, 17.0]\n",
      "103: False 14.0≠140.0 c=0.5, t=111.1s, ans:[45.0, 140.0, 140.0, 14.0, 14.0, 14.0, 120.0, 14.0]\n",
      "104: False 250.0≠500.0 c=0.4, t=55.4s, ans:[250.0, 400.0, 250.0, 550.0, 500.0, 250.0, 500.0, 450.0]\n",
      "105: True 20.0=20.0 c=0.8, t=69.9s, ans:[20.0, 15.0, 20.0, 20.0, 20.0, 10.0, 20.0, 20.0]\n",
      "106: False 2.0≠72.0 c=0.1, t=57.3s, ans:[540.0, 54.0, 2.0, 4.25, 108.0, 354.0, 360.0, 120.0]\n",
      "107: False 2.0≠3.0 c=0.4, t=82.9s, ans:[4.0, 30.0, 2.0, 30.0, 30.0, 2.0, 2.0, 60.0]\n",
      "108: False 45.0≠50.0 c=0.2, t=61.5s, ans:[70.0, 45.0, 95.0, 60.0, 40.0, 50.0, 45.0, 55.0]\n",
      "109: True 28.0=28.0 c=0.9, t=88.0s, ans:[28.0, 28.0, 28.0, 28.0, 29.0, 28.0, 28.0, 28.0]\n",
      "110: True 45.0=45.0 c=0.2, t=43.6s, ans:[24.0, 45.0, 96.0, 90.0, 17.0, 14.0, 33.0, 45.0]\n",
      "111: False 4.0≠16.0 c=0.1, t=79.2s, ans:[10.0, 20.0, 64.0, 4.0, 9.0, 16.0, 40.0, 22.0]\n",
      "112: True 24.0=24.0 c=0.9, t=33.7s, ans:[24.0, 24.0, 24.0, 24.0, 24.0, 16.0, 24.0, 24.0]\n",
      "113: True 25.0=25.0 c=1.0, t=33.4s, ans:[25.0, 25.0, 25.0, 25.0, 25.0, 25.0, 25.0, 25.0]\n",
      "114: False 50.0≠6.0 c=0.5, t=93.9s, ans:[50.0, 50.0, 50.0, 50.0, 150.0, 1800.0, -846.0, 1800.0]\n",
      "115: True 90.0=90.0 c=0.4, t=83.2s, ans:[140.0, 90.0, 100.0, 90.0, 270.0, 180.0, 230.0, 90.0]\n",
      "116: False 60.0≠42.0 c=0.2, t=68.4s, ans:[40.0, 60.0, 3.0, 70.0, 13.0, 9.0, 110.0, 60.0]\n",
      "117: True 360.0=360.0 c=0.9, t=42.0s, ans:[360.0, 360.0, 360.0, 360.0, 360.0, 360.0, 360.0, 720.0]\n",
      "118: True 4.0=4.0 c=0.9, t=57.3s, ans:[2.0, 4.0, 4.0, 4.0, 4.0, 4.0, 4.0, 4.0]\n",
      "119: False 28000.0≠95200.0 c=0.1, t=81.5s, ans:[136000.0, 40000.0, 56000.0, 124800.0, 67200.0, 104000.0, 72800.0, 28000.0]\n",
      "120: True 240.0=240.0 c=0.9, t=38.6s, ans:[240.0, 240.0, 240.0, 240.0, 120.0, 240.0, 240.0, 240.0]\n",
      "121: True 27.0=27.0 c=0.6, t=54.2s, ans:[27.0, 27.0, 13.0, 27.0, 42.0, 23.0, 27.0, 27.0]\n",
      "122: False 1.0≠48.0 c=0.1, t=74.9s, ans:[36.0, 31.0, 1.0, 23.0, 54.0, 7.0, 50.0, 38.0]\n",
      "123: True 50.0=50.0 c=0.8, t=69.6s, ans:[50.0, 50.0, 50.0, 40.0, 40.0, 50.0, 50.0, 50.0]\n",
      "124: False 40.0≠10.0 c=0.4, t=47.1s, ans:[40.0, 40.0, 60.0, 10.0, 20.0, 10.0, 120.0, 40.0]\n",
      "125: True 10.0=10.0 c=0.4, t=126.9s, ans:[12.0, 22.0, 10.0, 9.0, 7.0, 10.0, 7.0, 10.0]\n",
      "126: True 82.0=82.0 c=0.9, t=54.3s, ans:[82.0, 82.0, 82.0, 82.0, 82.0, 82.0, 82.0, 44.0]\n",
      "127: False 70.0≠120.0 c=0.5, t=33.5s, ans:[120.0, 70.0, 120.0, 70.0, 120.0, 70.0, 70.0, 120.0]\n",
      "128: False 40.0≠880.0 c=0.1, t=57.1s, ans:[510.0, 40.0, 780.0, 450.0, 880.0, 470.0, 580.0, 630.0]\n",
      "129: False 500.0≠10000.0 c=0.1, t=80.2s, ans:[500.0, 1080000.0, 10000.0, 60000.0, 70000.0, 35000.0, 40000.0, 25000.0]\n",
      "130: True 30.0=30.0 c=0.6, t=99.6s, ans:[30.0, 30.0, 20.0, 30.0, 1950.0, 30.0, 20.0, 30.0]\n",
      "131: True 940.0=940.0 c=0.8, t=34.9s, ans:[940.0, 440.0, 940.0, 940.0, 440.0, 940.0, 940.0, 940.0]\n",
      "132: False 48.0≠60.0 c=0.4, t=47.8s, ans:[60.0, 48.0, 24.0, 36.0, 24.0, 72.0, 48.0, 48.0]\n",
      "133: True 13.0=13.0 c=0.4, t=53.2s, ans:[13.0, 2018.0, 5.0, 17.0, 17.0, 13.0, 13.0, 34.0]\n",
      "134: True 720.0=720.0 c=0.6, t=41.9s, ans:[720.0, 720.0, 720.0, 720.0, 720.0, 15.0, 180.0, 180.0]\n",
      "135: False 5.0≠40.0 c=0.2, t=30.3s, ans:[25.0, 45.0, 3.0, 5.0, 5.0, 70.0, 40.0, 70.0]\n",
      "136: True 6.0=6.0 c=0.5, t=42.9s, ans:[9.0, 6.0, 6.0, 6.0, 243.0, 6.0, 3.0, 3.0]\n",
      "137: False 24.0≠29.0 c=0.4, t=57.7s, ans:[24.0, 21.0, 26.0, 31.0, 41.0, 24.0, 24.0, 2.0]\n",
      "138: False 3.0≠105.0 c=0.1, t=74.1s, ans:[67.0, 60.0, 21.0, 3.0, 70.0, 35.0, 105.0, 55.0]\n",
      "139: True 70.0=70.0 c=0.4, t=75.7s, ans:[100.0, 22.0, 12.0, 28.0, 48.0, 70.0, 70.0, 70.0]\n",
      "140: True 20.0=20.0 c=0.9, t=37.4s, ans:[20.0, 20.0, 20.0, 20.0, 20.0, 20.0, 40.0, 20.0]\n",
      "141: False 500.0≠400.0 c=0.2, t=66.4s, ans:[8.0, 500.0, 400.0, 500.0, 100.0, 700.0, 800.0, 700.0]\n",
      "142: True 140.0=140.0 c=0.9, t=47.8s, ans:[140.0, 140.0, 140.0, 140.0, 140.0, 140.0, 140.0, 70.0]\n",
      "143: True 16.0=16.0 c=0.4, t=105.3s, ans:[16.0, 16.0, 16.5, 1.0, 2015.0, 10.0, 16.0, 15.0]\n",
      "144: True 20.0=20.0 c=0.4, t=66.5s, ans:[20.0, 28.0, 20.0, 20.0, 36.0, 13.0, 12.0, 67.0]\n",
      "145: True 4000.0=4000.0 c=0.8, t=43.4s, ans:[4000.0, 4000.0, 4000.0, 4000.0, 4000.0, 12000.0, 2016.0, 4000.0]\n",
      "146: True 2125.0=2125.0 c=0.4, t=70.2s, ans:[4500.0, 2125.0, 2125.0, 1975.0, 1450.0, 2375.0, 4400.0, 2125.0]\n",
      "147: False 60.0≠75.0 c=0.4, t=62.4s, ans:[135.0, 180.0, 30.0, 60.0, 60.0, 90.0, 60.0, 105.0]\n",
      "148: False 14.0≠30.0 c=0.4, t=35.4s, ans:[30.0, 14.0, 14.0, 30.0, 14.0, 20.0, 22.0, 30.0]\n",
      "149: True 16.0=16.0 c=0.8, t=41.6s, ans:[16.0, 16.0, 16.0, 16.0, 16.0, 16.0, 4.0, 4.0]\n",
      "150: False 2.0≠4.0 c=0.2, t=63.5s, ans:[2.0, 3.0, 1.0, 0.0, 56.0, 3.0, 4.0, 2.0]\n",
      "151: True 5.0=5.0 c=0.2, t=83.1s, ans:[7.25, 5.0, 25.0, 12.0, 0.25, 4.5, 10.0, 5.0]\n",
      "152: True 4.0=4.0 c=0.9, t=70.0s, ans:[4.0, 4.0, 40.0, 4.0, 4.0, 4.0, 4.0, 4.0]\n",
      "153: False 8.0≠48.0 c=0.1, t=60.7s, ans:[21.0, 43.0, 42.0, 33.0, 8.0, 26.0, 56.0, 48.0]\n",
      "154: False 3.0≠272.0 c=0.1, t=77.1s, ans:[80.0, 124.0, 176.0, 208.0, 17.0, 3.0, 530.0, 272.0]\n",
      "155: True 280.0=280.0 c=0.4, t=70.1s, ans:[3360.0, 90.0, 170.0, 280.0, 292.0, 280.0, 280.0, 295.0]\n",
      "156: True 1400.0=1400.0 c=0.9, t=84.1s, ans:[1400.0, 1400.0, 1400.0, 1400.0, 1300.0, 1400.0, 1400.0, 1400.0]\n",
      "157: False 140.0≠80.0 c=0.2, t=48.6s, ans:[540.0, 1345.0, 140.0, 1080.0, 190.0, 140.0, 40.0, 160.0]\n",
      "158: True 34.0=34.0 c=0.9, t=40.2s, ans:[43.0, 34.0, 34.0, 34.0, 34.0, 34.0, 34.0, 34.0]\n",
      "159: True 15.0=15.0 c=0.5, t=53.3s, ans:[15.0, 15.0, 7.0, 15.0, 19.3, 15.0, 3.0, 2.0]\n",
      "160: True 16.0=16.0 c=0.4, t=52.4s, ans:[17.0, 21.0, 24.0, 16.0, 16.0, 26.0, 16.0, 8.0]\n",
      "161: False 13.0≠32.0 c=0.2, t=51.4s, ans:[22.0, 13.0, 19.0, 29.0, 33.0, 28.0, 32.0, 13.0]\n",
      "162: False 32.0≠92.0 c=0.4, t=88.3s, ans:[35.0, 432.0, 28.0, 32.0, 92.0, 32.0, 3.0, 32.0]\n",
      "163: True 50.0=50.0 c=0.5, t=69.9s, ans:[50.0, 40.0, 15.0, 50.0, 3.0, 70.0, 50.0, 50.0]\n",
      "164: True 15.0=15.0 c=0.6, t=42.7s, ans:[15.0, 15.0, 100.0, 15.0, 195.0, 15.0, 75.0, 15.0]\n",
      "165: True 77.0=77.0 c=0.5, t=52.2s, ans:[87.0, 177.0, 177.0, 77.0, 77.0, 54.0, 77.0, 77.0]\n",
      "166: True 5.0=5.0 c=0.8, t=39.3s, ans:[5.0, 5.0, 5.0, 5.0, 5.0, 45.0, 5.0, 7.0]\n",
      "167: False 14.0≠16.0 c=0.2, t=59.6s, ans:[14.0, 18.0, 14.0, 11.0, 12.0, 32.0, 16.0, 18.0]\n",
      "168: True 18.0=18.0 c=0.9, t=31.8s, ans:[18.0, 24.0, 18.0, 18.0, 18.0, 18.0, 18.0, 18.0]\n",
      "169: True 120.0=120.0 c=0.8, t=37.1s, ans:[120.0, 120.0, 120.0, 120.0, 160.0, 140.0, 120.0, 120.0]\n",
      "170: True 150.0=150.0 c=0.4, t=82.2s, ans:[4.0, 90.0, 75.0, 150.0, 100.0, 150.0, 150.0, 200.0]\n",
      "171: False 1170.0≠1210.0 c=0.5, t=68.0s, ans:[1270.0, 1170.0, 1110.0, 2007.0, 1170.0, 1170.0, 1170.0, 1210.0]\n",
      "172: False 22.0≠51.0 c=0.1, t=52.4s, ans:[47.0, 43.0, 32.0, 49.0, 26.0, 41.0, 37.0, 22.0]\n",
      "173: True 18000.0=18000.0 c=0.8, t=79.8s, ans:[18000.0, 18000.0, 1500.0, 18000.0, 1500.0, 18000.0, 18000.0, 18000.0]\n",
      "174: True 95.0=95.0 c=0.2, t=55.8s, ans:[9000.0, 90.0, 94.8, 60.0, 95.0, 100000.0, 5400.0, 95.0]\n",
      "175: True 15.0=15.0 c=0.4, t=53.2s, ans:[5.0, 15.0, 15.0, 18.0, 15.0, 30.0, 5.0, 9.0]\n",
      "176: True 100.0=100.0 c=0.6, t=47.4s, ans:[100.0, 100.0, 100.0, 20.0, 100.0, 100.0, 60.0, 60.0]\n",
      "177: False 0.0≠350.0 c=0.1, t=64.0s, ans:[2000.0, 0.0, 1600.0, 2100.0, 950.0, 700.0, 550.0, 350.0]\n",
      "178: True 122.0=122.0 c=0.2, t=72.9s, ans:[122.0, 148.0, 34.0, 56.0, 122.0, 78.0, 40.0, 134.0]\n",
      "179: True 130.0=130.0 c=0.6, t=62.9s, ans:[130.0, 8.0, -2.0, 130.0, 130.0, 130.0, 100.0, 130.0]\n",
      "180: True 20.0=20.0 c=0.6, t=36.9s, ans:[2.0, 20.0, 20.0, 20.0, 20.0, 20.0, 50.0, 60.0]\n",
      "181: False 80.0≠160.0 c=0.2, t=69.0s, ans:[540.0, 96.0, 16.0, 18.0, 80.0, 500.0, 80.0, 70.0]\n",
      "182: False 22.0≠23.0 c=0.2, t=40.5s, ans:[2.0, None, 24.0, 12.0, 22.0, 10.0, 16.0, 22.0]\n",
      "183: True 2.0=2.0 c=0.5, t=78.4s, ans:[2.0, 2.0, 2011.0, 2.0, 2.0, 20.0, 18.0, 14.0]\n",
      "184: False 24.0≠25.0 c=0.2, t=48.1s, ans:[200.0, 21.0, 24.0, 25.0, 24.0, 67.0, 20.0, 65.0]\n",
      "185: True 30.0=30.0 c=0.6, t=37.3s, ans:[30.0, 40.0, 40.0, 40.0, 30.0, 30.0, 30.0, 30.0]\n",
      "186: False 2.33≠5.0 c=0.1, t=74.4s, ans:[77536.0, 30.0, 90.0, 2.33, 18.0, 6.0, 20.0, 85.0]\n",
      "187: True 106.0=106.0 c=1.0, t=50.7s, ans:[106.0, 106.0, 106.0, 106.0, 106.0, 106.0, 106.0, 106.0]\n",
      "188: True 50.0=50.0 c=0.5, t=69.5s, ans:[11.0, 50.0, 50.0, 50.0, 8.0, 100.0, 40.0, 50.0]\n",
      "189: False 28.0≠34.0 c=0.1, t=77.1s, ans:[3050.0, 59.0, 32.0, 80.0, 34.0, 66.0, 42.5, 28.0]\n",
      "190: True 360.0=360.0 c=0.6, t=48.7s, ans:[360.0, 360.0, 21600.0, 360.0, 180.0, 360.0, 120.0, 360.0]\n",
      "191: True 5.0=5.0 c=0.5, t=38.7s, ans:[5.0, 5.0, 3.5, 7.0, 5.0, 5.0, 2.0, 7.0]\n",
      "192: False 15.0≠91.0 c=0.1, t=68.7s, ans:[50.0, 56.0, 15.0, 87.0, 91.0, 105.0, 52.0, 20.0]\n",
      "193: False 18.0≠24.0 c=0.5, t=78.8s, ans:[6.0, 18.0, 18.0, 18.0, 12.0, 12.0, 18.0, 24.0]\n",
      "194: True 10.0=10.0 c=1.0, t=33.6s, ans:[10.0, 10.0, 10.0, 10.0, 10.0, 10.0, 10.0, 10.0]\n",
      "195: True 12.0=12.0 c=1.0, t=38.9s, ans:[12.0, 12.0, 12.0, 12.0, 12.0, 12.0, 12.0, 12.0]\n",
      "196: False 5.0≠120.0 c=0.4, t=47.1s, ans:[5.0, 20.0, 222.0, 0.0, 5.0, 120.0, 0.0, 5.0]\n",
      "197: True 6277.0=6277.0 c=1.0, t=58.0s, ans:[6277.0, 6277.0, 6277.0, 6277.0, 6277.0, 6277.0, 6277.0, 6277.0]\n",
      "198: False 140.0≠320.0 c=0.2, t=70.4s, ans:[140.0, 20.0, 320.0, 320.0, 180.0, 160.0, 140.0, 200.0]\n",
      "199: False 3500.0≠7500.0 c=0.2, t=61.5s, ans:[3500.0, 20.0, 150.0, 5000.0, 7500.0, 100.0, 3500.0, 7500.0]\n",
      "(0.56, 0.394375)\n"
     ]
    }
   ],
   "source": [
    "template_cot_few = prompt_cot + \"\\nQuestion: {}\\nLet's think step by step: \"\n",
    "\n",
    "log_cot_few = test_gsm(\n",
    "    model=model, \n",
    "    tokenizer=prefix_tokenizer, \n",
    "    template=template_cot_few, \n",
    "    end_of_answer_token_id = 13, \n",
    "    verbose=True, \n",
    "    max_length=32,\n",
    "    num_return_sequences = 8,\n",
    "    test_range = (0, 200)\n",
    ")"
   ]
  },
  {
   "cell_type": "code",
   "execution_count": 48,
   "id": "64a9b492-5dc9-4cf1-a5f8-ce0c83ae5204",
   "metadata": {
    "tags": []
   },
   "outputs": [
    {
     "data": {
      "text/plain": [
       "(0.56, 0.394375)"
      ]
     },
     "execution_count": 48,
     "metadata": {},
     "output_type": "execute_result"
    }
   ],
   "source": [
    "score_log(log_cot_few)"
   ]
  },
  {
   "cell_type": "code",
   "execution_count": 51,
   "id": "50b18611-149e-4bad-b055-6e1c0c358f54",
   "metadata": {
    "tags": []
   },
   "outputs": [],
   "source": [
    "torch.save(log_cot_few, f\"logs_save/{EXP_NAME}_cot_few.pt\")"
   ]
  }
 ],
 "metadata": {
  "kernelspec": {
   "display_name": "Python 3 (ipykernel)",
   "language": "python",
   "name": "python3"
  },
  "language_info": {
   "codemirror_mode": {
    "name": "ipython",
    "version": 3
   },
   "file_extension": ".py",
   "mimetype": "text/x-python",
   "name": "python",
   "nbconvert_exporter": "python",
   "pygments_lexer": "ipython3",
   "version": "3.9.16"
  }
 },
 "nbformat": 4,
 "nbformat_minor": 5
}
